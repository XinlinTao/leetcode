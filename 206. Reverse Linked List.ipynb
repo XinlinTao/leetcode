{
 "cells": [
  {
   "cell_type": "code",
   "execution_count": 2,
   "metadata": {},
   "outputs": [],
   "source": [
    "class ListNode:\n",
    "    def __init__(self, val=0, next=None):\n",
    "        self.val = val\n",
    "        self.next = next"
   ]
  },
  {
   "cell_type": "code",
   "execution_count": 3,
   "metadata": {},
   "outputs": [],
   "source": [
    "class Solution:\n",
    "    def reverseList(self, head: ListNode) -> ListNode:\n",
    "        if not head:\n",
    "            return(head);\n",
    "        def recur_rev(head:ListNode):\n",
    "            if not head.next:\n",
    "                return(head,head);\n",
    "            p1,p2=recur_rev(head.next);\n",
    "            head.next=None;\n",
    "            p2.next=head;\n",
    "            return(p1,p2.next);\n",
    "        return(recur_rev(head)[0]);"
   ]
  },
  {
   "cell_type": "code",
   "execution_count": null,
   "metadata": {},
   "outputs": [],
   "source": [
    "class Solution:\n",
    "    def reverseList(self, head: ListNode) -> ListNode:\n",
    "        if not head:\n",
    "            return(None);\n",
    "        rev=head;\n",
    "        p=head.next;\n",
    "        rev.next=None;\n",
    "        while p:\n",
    "            tmp=p;\n",
    "            p=p.next;\n",
    "            tmp.next=rev;\n",
    "            rev=tmp;\n",
    "        return(rev);"
   ]
  }
 ],
 "metadata": {
  "kernelspec": {
   "display_name": "Python 3",
   "language": "python",
   "name": "python3"
  },
  "language_info": {
   "codemirror_mode": {
    "name": "ipython",
    "version": 3
   },
   "file_extension": ".py",
   "mimetype": "text/x-python",
   "name": "python",
   "nbconvert_exporter": "python",
   "pygments_lexer": "ipython3",
   "version": "3.6.4"
  }
 },
 "nbformat": 4,
 "nbformat_minor": 2
}
