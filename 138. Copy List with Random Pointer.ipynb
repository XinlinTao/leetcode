{
 "cells": [
  {
   "cell_type": "code",
   "execution_count": 1,
   "metadata": {},
   "outputs": [],
   "source": [
    "class Node:\n",
    "    def __init__(self, x: int, next: 'Node' = None, random: 'Node' = None):\n",
    "        self.val = int(x)\n",
    "        self.next = next\n",
    "        self.random = random"
   ]
  },
  {
   "cell_type": "code",
   "execution_count": null,
   "metadata": {},
   "outputs": [],
   "source": [
    "def copyRandomList(head: 'Node') -> 'Node':\n",
    "    if not head:\n",
    "        return None;\n",
    "    p=head;\n",
    "    while p:\n",
    "        new=Node(p.val,None,None);\n",
    "        new.next=p.next;\n",
    "        p.next=new;\n",
    "        p=new.next;\n",
    "    p=head;\n",
    "    while p:\n",
    "        if p.random:\n",
    "            p.next.random=p.random.next;\n",
    "        p=p.next.next;\n",
    "    p1=head;\n",
    "    p2=head.next;\n",
    "    new=head.next;\n",
    "    while p1 and p2:\n",
    "        p1=p2.next;\n",
    "        p2.next=p1.next if p1 else None;\n",
    "        p2=p1.next if p1 else None;\n",
    "    return(new); "
   ]
  }
 ],
 "metadata": {
  "kernelspec": {
   "display_name": "Python 3",
   "language": "python",
   "name": "python3"
  },
  "language_info": {
   "codemirror_mode": {
    "name": "ipython",
    "version": 3
   },
   "file_extension": ".py",
   "mimetype": "text/x-python",
   "name": "python",
   "nbconvert_exporter": "python",
   "pygments_lexer": "ipython3",
   "version": "3.6.4"
  }
 },
 "nbformat": 4,
 "nbformat_minor": 2
}
