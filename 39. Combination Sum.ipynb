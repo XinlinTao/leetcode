{
 "cells": [
  {
   "cell_type": "code",
   "execution_count": 42,
   "metadata": {},
   "outputs": [],
   "source": [
    "def combinationSum(candidates, target: int):\n",
    "    def combinationSum1(candidates,target: int):\n",
    "        if target==0:\n",
    "            return([[]]);\n",
    "        if (not candidates) or target<candidates[0]:\n",
    "            return([]);\n",
    "        result=[];\n",
    "        for l in combinationSum1(candidates,target-candidates[0]):\n",
    "            result=result+[[candidates[0]]+l];\n",
    "        n=len(candidates);\n",
    "        for l in combinationSum1(candidates[1:n],target):\n",
    "            result=result+[l];\n",
    "        return(result);    \n",
    "    candidates.sort();\n",
    "    return(combinationSum1(candidates,target))"
   ]
  },
  {
   "cell_type": "code",
   "execution_count": 44,
   "metadata": {},
   "outputs": [],
   "source": [
    "candidates = [6,5,3,4]\n",
    "target = 7"
   ]
  },
  {
   "cell_type": "code",
   "execution_count": 41,
   "metadata": {},
   "outputs": [
    {
     "data": {
      "text/plain": [
       "[3, 4, 5, 6]"
      ]
     },
     "execution_count": 41,
     "metadata": {},
     "output_type": "execute_result"
    }
   ],
   "source": [
    "candidates.sort()\n",
    "candidates"
   ]
  },
  {
   "cell_type": "code",
   "execution_count": 45,
   "metadata": {},
   "outputs": [
    {
     "data": {
      "text/plain": [
       "[[3, 4]]"
      ]
     },
     "execution_count": 45,
     "metadata": {},
     "output_type": "execute_result"
    }
   ],
   "source": [
    "combinationSum(candidates,target)"
   ]
  }
 ],
 "metadata": {
  "kernelspec": {
   "display_name": "Python 3",
   "language": "python",
   "name": "python3"
  },
  "language_info": {
   "codemirror_mode": {
    "name": "ipython",
    "version": 3
   },
   "file_extension": ".py",
   "mimetype": "text/x-python",
   "name": "python",
   "nbconvert_exporter": "python",
   "pygments_lexer": "ipython3",
   "version": "3.6.4"
  }
 },
 "nbformat": 4,
 "nbformat_minor": 2
}
