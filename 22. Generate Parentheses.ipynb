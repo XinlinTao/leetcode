{
 "cells": [
  {
   "cell_type": "code",
   "execution_count": 18,
   "metadata": {},
   "outputs": [],
   "source": [
    "def generateParenthesis(n: int):\n",
    "    if n==0:\n",
    "        return(['']);\n",
    "    ans=[];\n",
    "    for i in range(n):\n",
    "        for p1 in generateParenthesis(i):\n",
    "            for p2 in generateParenthesis(n-i-1):\n",
    "                ans.append('('+p1+')'+p2);\n",
    "    return(ans);"
   ]
  },
  {
   "cell_type": "code",
   "execution_count": 19,
   "metadata": {},
   "outputs": [
    {
     "name": "stdout",
     "output_type": "stream",
     "text": [
      "['()()()', '()(())', '(())()', '(()())', '((()))']\n"
     ]
    }
   ],
   "source": [
    "print(generateParenthesis(3))"
   ]
  }
 ],
 "metadata": {
  "kernelspec": {
   "display_name": "Python 3",
   "language": "python",
   "name": "python3"
  },
  "language_info": {
   "codemirror_mode": {
    "name": "ipython",
    "version": 3
   },
   "file_extension": ".py",
   "mimetype": "text/x-python",
   "name": "python",
   "nbconvert_exporter": "python",
   "pygments_lexer": "ipython3",
   "version": "3.6.4"
  }
 },
 "nbformat": 4,
 "nbformat_minor": 2
}
