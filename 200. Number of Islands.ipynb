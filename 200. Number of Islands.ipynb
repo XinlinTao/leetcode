{
 "cells": [
  {
   "cell_type": "code",
   "execution_count": 7,
   "metadata": {},
   "outputs": [],
   "source": [
    "class Solution:\n",
    "    def numIslands(self, grid: List[List[str]]) -> int:\n",
    "        def floodfill(grid,i,j):\n",
    "            grid[i][j]=\"0\";\n",
    "            if i and grid[i-1][j]==\"1\":\n",
    "                floodfill(grid,i-1,j);\n",
    "            if j and grid[i][j-1]==\"1\":\n",
    "                floodfill(grid,i,j-1);\n",
    "            if i+1<=m-1 and grid[i+1][j]==\"1\":\n",
    "                floodfill(grid,i+1,j);\n",
    "            if j+1<=n-1 and grid[i][j+1]==\"1\":\n",
    "                floodfill(grid,i,j+1)\n",
    "        if not grid: return(0);\n",
    "        m=len(grid);\n",
    "        n=len(grid[0]);\n",
    "        res=0;\n",
    "        for i in range(m):\n",
    "            for j in range(n):\n",
    "                if grid[i][j]==\"1\":\n",
    "                    res+=1;\n",
    "                    floodfill(grid,i,j);\n",
    "        return(res);"
   ]
  },
  {
   "cell_type": "code",
   "execution_count": 5,
   "metadata": {},
   "outputs": [],
   "source": [
    "grid=[[\"1\",\"1\",\"0\",\"0\",\"0\"],[\"1\",\"1\",\"0\",\"0\",\"0\"],[\"0\",\"0\",\"1\",\"0\",\"0\"],[\"0\",\"0\",\"0\",\"1\",\"1\"]]"
   ]
  },
  {
   "cell_type": "code",
   "execution_count": 8,
   "metadata": {},
   "outputs": [
    {
     "name": "stdout",
     "output_type": "stream",
     "text": [
      "True True 1 False False\n"
     ]
    },
    {
     "data": {
      "text/plain": [
       "1"
      ]
     },
     "execution_count": 8,
     "metadata": {},
     "output_type": "execute_result"
    }
   ],
   "source": [
    "numIslands(grid)"
   ]
  }
 ],
 "metadata": {
  "kernelspec": {
   "display_name": "Python 3",
   "language": "python",
   "name": "python3"
  },
  "language_info": {
   "codemirror_mode": {
    "name": "ipython",
    "version": 3
   },
   "file_extension": ".py",
   "mimetype": "text/x-python",
   "name": "python",
   "nbconvert_exporter": "python",
   "pygments_lexer": "ipython3",
   "version": "3.6.4"
  }
 },
 "nbformat": 4,
 "nbformat_minor": 2
}
