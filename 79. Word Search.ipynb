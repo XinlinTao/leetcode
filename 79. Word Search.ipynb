{
 "cells": [
  {
   "cell_type": "code",
   "execution_count": 27,
   "metadata": {},
   "outputs": [],
   "source": [
    "def exist(board, word):\n",
    "    def dfs_word(word,i,j,visited=set({})):\n",
    "        if len(word)==1:\n",
    "            return(True);\n",
    "        curr=board[i][j];\n",
    "        flag=False;\n",
    "        visited.add((i,j));\n",
    "        m=len(board);\n",
    "        n=len(board[0]);\n",
    "        if i+1<=m-1 and board[i+1][j]==word[1] and (i+1,j) not in visited:\n",
    "            flag=dfs_word(word[1:len(word)],i+1,j,visited);\n",
    "            if flag:\n",
    "                visited.remove((i,j));\n",
    "                return(flag);\n",
    "        if j+1<=n-1 and board[i][j+1]==word[1] and (i,j+1) not in visited:\n",
    "            flag=dfs_word(word[1:len(word)],i,j+1,visited);\n",
    "            if flag:\n",
    "                visited.remove((i,j));\n",
    "                return(flag);\n",
    "        if i-1>=0 and board[i-1][j]==word[1] and (i-1,j) not in visited:\n",
    "            flag=dfs_word(word[1:len(word)],i-1,j,visited);\n",
    "            if flag:\n",
    "                visited.remove((i,j));\n",
    "                return(flag);\n",
    "        if j-1>=0 and board[i][j-1]==word[1] and (i,j-1) not in visited:\n",
    "            flag=dfs_word(word[1:len(word)],i,j-1,visited);\n",
    "            if flag:\n",
    "                visited.remove((i,j));\n",
    "                return(flag);\n",
    "        visited.remove((i,j));\n",
    "        return(flag);\n",
    "    m=len(board);\n",
    "    n=len(board[0]);\n",
    "    flag=False;\n",
    "    if not board:\n",
    "        return(False);\n",
    "    for i in range(m):\n",
    "        for j in range(n):\n",
    "            if board[i][j]==word[0]:\n",
    "                flag=dfs_word(word,i,j);\n",
    "                if flag:\n",
    "                    return(flag);\n",
    "    return(flag);"
   ]
  },
  {
   "cell_type": "code",
   "execution_count": 20,
   "metadata": {},
   "outputs": [],
   "source": [
    "board = [[\"C\",\"A\",\"A\"],[\"A\",\"A\",\"A\"],[\"B\",\"C\",\"D\"]];\n",
    "word = \"AAB\""
   ]
  },
  {
   "cell_type": "code",
   "execution_count": 28,
   "metadata": {},
   "outputs": [
    {
     "name": "stdout",
     "output_type": "stream",
     "text": [
      "AAB (0, 1) set()\n",
      "AB (1, 1) {(0, 1)}\n",
      "AB (0, 2) {(0, 1)}\n",
      "AAB (0, 2) set()\n",
      "AB (1, 2) {(0, 2)}\n",
      "AB (0, 1) {(0, 2)}\n",
      "AAB (1, 0) set()\n",
      "AB (1, 1) {(1, 0)}\n",
      "AAB (1, 1) set()\n",
      "AB (1, 2) {(1, 1)}\n",
      "AB (0, 1) {(1, 1)}\n",
      "AB (1, 0) {(1, 1)}\n"
     ]
    },
    {
     "data": {
      "text/plain": [
       "True"
      ]
     },
     "execution_count": 28,
     "metadata": {},
     "output_type": "execute_result"
    }
   ],
   "source": [
    "exist(board,word)"
   ]
  }
 ],
 "metadata": {
  "kernelspec": {
   "display_name": "Python 3",
   "language": "python",
   "name": "python3"
  },
  "language_info": {
   "codemirror_mode": {
    "name": "ipython",
    "version": 3
   },
   "file_extension": ".py",
   "mimetype": "text/x-python",
   "name": "python",
   "nbconvert_exporter": "python",
   "pygments_lexer": "ipython3",
   "version": "3.6.4"
  }
 },
 "nbformat": 4,
 "nbformat_minor": 2
}
