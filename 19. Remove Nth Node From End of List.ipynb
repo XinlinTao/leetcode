{
 "cells": [
  {
   "cell_type": "code",
   "execution_count": 1,
   "metadata": {},
   "outputs": [],
   "source": [
    "class ListNode:\n",
    "     def __init__(self, val=0, next=None):\n",
    "         self.val = val;\n",
    "         self.next = next;"
   ]
  },
  {
   "cell_type": "code",
   "execution_count": 3,
   "metadata": {},
   "outputs": [],
   "source": [
    "def removeNthFromEnd(head: ListNode, n: int):\n",
    "    new=ListNode(0);\n",
    "    new.next=head;    \n",
    "    p=new;\n",
    "    index=1;\n",
    "    while index<=n:\n",
    "        p=p.next;\n",
    "        index+=1;\n",
    "    q=new;\n",
    "    while p.next:\n",
    "        q=q.next;\n",
    "        p=p.next;\n",
    "    q.next=q.next.next;\n",
    "    return(new.next);"
   ]
  }
 ],
 "metadata": {
  "kernelspec": {
   "display_name": "Python 3",
   "language": "python",
   "name": "python3"
  },
  "language_info": {
   "codemirror_mode": {
    "name": "ipython",
    "version": 3
   },
   "file_extension": ".py",
   "mimetype": "text/x-python",
   "name": "python",
   "nbconvert_exporter": "python",
   "pygments_lexer": "ipython3",
   "version": "3.6.4"
  }
 },
 "nbformat": 4,
 "nbformat_minor": 2
}
