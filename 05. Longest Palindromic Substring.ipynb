{
 "cells": [
  {
   "cell_type": "code",
   "execution_count": 66,
   "metadata": {},
   "outputs": [],
   "source": [
    "def longestPalindrome(s: str) -> str:\n",
    "    if (s==\"\"): return(s)\n",
    "    n=len(s);\n",
    "    flag = [[0]*n for _ in range(n)];\n",
    "    mlen=0;\n",
    "    for k in range(0,n):\n",
    "        ff=False;\n",
    "        for i in range(0,n-k):\n",
    "            #print(flag)\n",
    "            j=i+k;\n",
    "            #print(i,j);\n",
    "            if (i==j):\n",
    "                flag[i][j]=1;\n",
    "            if ((k==1)&(s[i]==s[j])):\n",
    "                print(s[i],s[j])\n",
    "                flag[i][j]=1;\n",
    "            if ((k>1)&(s[i]==s[j])):\n",
    "                flag[i][j]=flag[i+1][j-1];\n",
    "            if ((flag[i][j]) and (k+1>mlen)):\n",
    "                mlen=k+1;\n",
    "                index1=i;\n",
    "                index2=j;\n",
    "                ff=True;       \n",
    "    #print(flag);\n",
    "    return(s[index1:(index2+1)]); "
   ]
  },
  {
   "cell_type": "code",
   "execution_count": 63,
   "metadata": {},
   "outputs": [
    {
     "data": {
      "text/plain": [
       "'bab'"
      ]
     },
     "execution_count": 63,
     "metadata": {},
     "output_type": "execute_result"
    }
   ],
   "source": [
    "s='babad';\n",
    "longestPalindrome(s)"
   ]
  },
  {
   "cell_type": "code",
   "execution_count": 44,
   "metadata": {},
   "outputs": [
    {
     "name": "stdout",
     "output_type": "stream",
     "text": [
      "[[0, 0, 0, 0], [0, 0, 0, 0], [0, 0, 0, 0], [0, 0, 0, 0]]\n",
      "[[1, 0, 0, 0], [1, 0, 0, 0], [1, 0, 0, 0], [1, 0, 0, 0]]\n"
     ]
    }
   ],
   "source": [
    "flag=[[0]*4]*4;\n",
    "print(flag)\n",
    "flag[0][0]=1;\n",
    "print(flag)"
   ]
  },
  {
   "cell_type": "code",
   "execution_count": 51,
   "metadata": {},
   "outputs": [
    {
     "name": "stdout",
     "output_type": "stream",
     "text": [
      "[[0, 0, 0, 0], [0, 0, 0, 0], [0, 0, 0, 0], [0, 0, 0, 0]]\n",
      "[[1, 0, 0, 0], [0, 0, 0, 0], [0, 0, 0, 0], [0, 0, 0, 0]]\n"
     ]
    }
   ],
   "source": [
    "#print(flag[0]);\n",
    "flag = [[0]*4 for _ in range(4)]\n",
    "print(flag);\n",
    "flag[0][0]=1;\n",
    "print(flag)"
   ]
  },
  {
   "cell_type": "code",
   "execution_count": 50,
   "metadata": {},
   "outputs": [
    {
     "name": "stdout",
     "output_type": "stream",
     "text": [
      "[[1, 0, 0, 0], [1, 0, 0, 0], [1, 0, 0, 0], [1, 0, 0, 0]]\n"
     ]
    }
   ],
   "source": [
    "flag=[list([0]*4)]*4;\n",
    "flag[0][0]=1;\n",
    "print(flag)"
   ]
  }
 ],
 "metadata": {
  "kernelspec": {
   "display_name": "Python 3",
   "language": "python",
   "name": "python3"
  },
  "language_info": {
   "codemirror_mode": {
    "name": "ipython",
    "version": 3
   },
   "file_extension": ".py",
   "mimetype": "text/x-python",
   "name": "python",
   "nbconvert_exporter": "python",
   "pygments_lexer": "ipython3",
   "version": "3.6.4"
  }
 },
 "nbformat": 4,
 "nbformat_minor": 2
}
