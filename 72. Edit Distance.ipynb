{
 "cells": [
  {
   "cell_type": "code",
   "execution_count": 128,
   "metadata": {},
   "outputs": [],
   "source": [
    "def minDistance(word1: str, word2: str) -> int:\n",
    "    if len(word1)>len(word2):\n",
    "        word1,word2=word2,word1;\n",
    "    n=len(word1)\n",
    "    m=len(word2)\n",
    "    dp=[[0]*(m+1) for _ in range(n+1)]\n",
    "    dp[0]=list(range(m+1));\n",
    "    word1=\"x\"+word1;\n",
    "    word2=\"x\"+word2;\n",
    "    for i in range(n+1):\n",
    "        dp[i][0]=i;\n",
    "    for i in range(1,n+1):\n",
    "        for j in range(1,m+1):\n",
    "            if word1[i]==word2[j]:\n",
    "                dp[i][j]=dp[i-1][j-1];\n",
    "            else:\n",
    "                dp[i][j]=min(dp[i-1][j],dp[i][j-1],dp[i-1][j-1])+1\n",
    "    return(dp[n][m])"
   ]
  },
  {
   "cell_type": "code",
   "execution_count": 136,
   "metadata": {},
   "outputs": [],
   "source": [
    "def minDistance(word1: str, word2: str) -> int:\n",
    "    if len(word1)>len(word2):\n",
    "        word1,word2=word2,word1;\n",
    "    n=len(word1)\n",
    "    m=len(word2)\n",
    "    dp=[[0]*(m+1),[0]*(m+1)]\n",
    "    dp[0]=list(range(m+1));\n",
    "    word1=\"x\"+word1;\n",
    "    word2=\"x\"+word2;\n",
    "    for i in range(1,n+1):\n",
    "        for j in range(1,m+1):\n",
    "            if j==1:\n",
    "                dp[i%2][0]=i;\n",
    "            if word1[i]==word2[j]:\n",
    "                dp[i%2][j]=dp[(i-1)%2][j-1];\n",
    "            else:\n",
    "                dp[i%2][j]=min(dp[(i-1)%2][j],dp[i%2][j-1],dp[(i-1)%2][j-1])+1\n",
    "        #print(dp)\n",
    "    return(dp[n%2][m])"
   ]
  },
  {
   "cell_type": "code",
   "execution_count": 137,
   "metadata": {},
   "outputs": [
    {
     "name": "stdout",
     "output_type": "stream",
     "text": [
      "[[0, 1, 2, 3, 4, 5, 6, 7, 8, 9], [1, 1, 2, 3, 4, 5, 6, 6, 7, 8]]\n",
      "[[2, 2, 2, 3, 4, 5, 6, 7, 7, 7], [1, 1, 2, 3, 4, 5, 6, 6, 7, 8]]\n",
      "[[2, 2, 2, 3, 4, 5, 6, 7, 7, 7], [3, 3, 3, 3, 4, 5, 5, 6, 7, 8]]\n",
      "[[4, 3, 4, 3, 4, 5, 6, 6, 7, 8], [3, 3, 3, 3, 4, 5, 5, 6, 7, 8]]\n",
      "[[4, 3, 4, 3, 4, 5, 6, 6, 7, 8], [5, 4, 4, 4, 4, 5, 6, 7, 7, 7]]\n",
      "[[6, 5, 5, 5, 5, 5, 5, 6, 7, 8], [5, 4, 4, 4, 4, 5, 6, 7, 7, 7]]\n",
      "[[6, 5, 5, 5, 5, 5, 5, 6, 7, 8], [7, 6, 6, 6, 6, 6, 6, 5, 6, 7]]\n",
      "[[8, 7, 7, 7, 7, 7, 7, 6, 5, 6], [7, 6, 6, 6, 6, 6, 6, 5, 6, 7]]\n",
      "[[8, 7, 7, 7, 7, 7, 7, 6, 5, 6], [9, 8, 8, 8, 8, 8, 8, 7, 6, 5]]\n"
     ]
    },
    {
     "data": {
      "text/plain": [
       "5"
      ]
     },
     "execution_count": 137,
     "metadata": {},
     "output_type": "execute_result"
    }
   ],
   "source": [
    "word1 = \"intention\"\n",
    "word2=\"execution\"\n",
    "#word2 = \"ab\"\n",
    "minDistance(word1,word2)"
   ]
  }
 ],
 "metadata": {
  "kernelspec": {
   "display_name": "Python 3",
   "language": "python",
   "name": "python3"
  },
  "language_info": {
   "codemirror_mode": {
    "name": "ipython",
    "version": 3
   },
   "file_extension": ".py",
   "mimetype": "text/x-python",
   "name": "python",
   "nbconvert_exporter": "python",
   "pygments_lexer": "ipython3",
   "version": "3.6.4"
  }
 },
 "nbformat": 4,
 "nbformat_minor": 2
}
