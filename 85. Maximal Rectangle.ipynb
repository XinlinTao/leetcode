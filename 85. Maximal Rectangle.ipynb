{
 "cells": [
  {
   "cell_type": "code",
   "execution_count": 7,
   "metadata": {},
   "outputs": [],
   "source": [
    "def maximalRectangle(matrix):\n",
    "    if not matrix:\n",
    "        return(0)\n",
    "    def largestRectangleArea(heights):\n",
    "        mono_stack=[-1];\n",
    "        n=len(heights);\n",
    "        left=[0]*n;\n",
    "        right=[n]*n;\n",
    "        for i,h in enumerate(heights):\n",
    "            while mono_stack[-1]!=-1 and heights[mono_stack[-1]]>=h:\n",
    "                right[mono_stack[-1]]=i;\n",
    "                mono_stack.pop();\n",
    "            left[i]=mono_stack[-1];\n",
    "            mono_stack.append(i);\n",
    "        res=0;\n",
    "        for i,h in enumerate(heights):\n",
    "            res=max(res,h*(right[i]-left[i]-1))\n",
    "        return(res)\n",
    "    n=len(matrix[0]);\n",
    "    dp=[0]*n;\n",
    "    res=0;\n",
    "    for i,l in enumerate(matrix):\n",
    "        for j,ele in enumerate(l):\n",
    "            dp[j]=dp[j]+1 if ele==\"1\" else 0;\n",
    "        print(dp)\n",
    "        res=max(res,largestRectangleArea(dp));\n",
    "    return(res);"
   ]
  },
  {
   "cell_type": "code",
   "execution_count": 8,
   "metadata": {},
   "outputs": [
    {
     "name": "stdout",
     "output_type": "stream",
     "text": [
      "[1, 0, 1, 0, 0]\n",
      "[2, 0, 2, 1, 1]\n",
      "[3, 1, 3, 2, 2]\n",
      "[4, 0, 0, 3, 0]\n"
     ]
    },
    {
     "data": {
      "text/plain": [
       "6"
      ]
     },
     "execution_count": 8,
     "metadata": {},
     "output_type": "execute_result"
    }
   ],
   "source": [
    "matrix = [[\"1\",\"0\",\"1\",\"0\",\"0\"],[\"1\",\"0\",\"1\",\"1\",\"1\"],[\"1\",\"1\",\"1\",\"1\",\"1\"],[\"1\",\"0\",\"0\",\"1\",\"0\"]];\n",
    "maximalRectangle(matrix)"
   ]
  },
  {
   "cell_type": "code",
   "execution_count": 28,
   "metadata": {},
   "outputs": [],
   "source": [
    "## another approach\n",
    "def maximalRectangle(matrix):\n",
    "    if not matrix:\n",
    "        return 0;\n",
    "    n=len(matrix[0]);\n",
    "    height=[0]*n;\n",
    "    left=[0]*n;\n",
    "    right=[n]*n;\n",
    "    res=0\n",
    "    for i,l in enumerate(matrix):\n",
    "        for j,ele in enumerate(l):\n",
    "            height[j]=height[j]+1 if ele==\"1\" else 0;\n",
    "        curr_left=0;\n",
    "        for j,ele in enumerate(l):\n",
    "            if ele==\"1\":\n",
    "                left[j]=max(left[j],curr_left);\n",
    "            else:\n",
    "                left[j]=0;\n",
    "                curr_left=j+1;\n",
    "        curr_right=n-1;\n",
    "        for j in range(n-1,-1,-1):\n",
    "            ele=l[j];\n",
    "            if ele==\"1\":\n",
    "                right[j]=min(right[j],curr_right);\n",
    "            else:\n",
    "                right[j]=n;\n",
    "                curr_right=j-1;\n",
    "        for j,h in enumerate(height):\n",
    "            res=max(res,h*(right[j]-left[j]+1));\n",
    "    return(res)"
   ]
  },
  {
   "cell_type": "code",
   "execution_count": 29,
   "metadata": {},
   "outputs": [
    {
     "name": "stdout",
     "output_type": "stream",
     "text": [
      "height\n",
      "[1, 0, 1, 0, 0]\n",
      "left\n",
      "[0, 0, 2, 0, 0]\n",
      "right\n",
      "[0, 5, 2, 5, 5]\n",
      "height\n",
      "[2, 0, 2, 1, 1]\n",
      "left\n",
      "[0, 0, 2, 2, 2]\n",
      "right\n",
      "[0, 5, 2, 4, 4]\n",
      "height\n",
      "[3, 1, 3, 2, 2]\n",
      "left\n",
      "[0, 0, 2, 2, 2]\n",
      "right\n",
      "[0, 4, 2, 4, 4]\n",
      "height\n",
      "[4, 0, 0, 3, 0]\n",
      "left\n",
      "[0, 0, 0, 3, 0]\n",
      "right\n",
      "[0, 5, 5, 3, 5]\n"
     ]
    },
    {
     "data": {
      "text/plain": [
       "6"
      ]
     },
     "execution_count": 29,
     "metadata": {},
     "output_type": "execute_result"
    }
   ],
   "source": [
    "matrix = [[\"1\",\"0\",\"1\",\"0\",\"0\"],[\"1\",\"0\",\"1\",\"1\",\"1\"],[\"1\",\"1\",\"1\",\"1\",\"1\"],[\"1\",\"0\",\"0\",\"1\",\"0\"]];\n",
    "maximalRectangle(matrix)"
   ]
  }
 ],
 "metadata": {
  "kernelspec": {
   "display_name": "Python 3",
   "language": "python",
   "name": "python3"
  },
  "language_info": {
   "codemirror_mode": {
    "name": "ipython",
    "version": 3
   },
   "file_extension": ".py",
   "mimetype": "text/x-python",
   "name": "python",
   "nbconvert_exporter": "python",
   "pygments_lexer": "ipython3",
   "version": "3.6.4"
  }
 },
 "nbformat": 4,
 "nbformat_minor": 2
}
