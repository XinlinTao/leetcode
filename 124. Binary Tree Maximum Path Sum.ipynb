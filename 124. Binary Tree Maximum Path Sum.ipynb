{
 "cells": [
  {
   "cell_type": "code",
   "execution_count": 1,
   "metadata": {},
   "outputs": [],
   "source": [
    "class TreeNode:\n",
    "    def __init__(self, val=0, left=None, right=None):\n",
    "        self.val = val\n",
    "        self.left = left\n",
    "        self.right = right\n"
   ]
  },
  {
   "cell_type": "code",
   "execution_count": 2,
   "metadata": {},
   "outputs": [],
   "source": [
    "class Solution:\n",
    "    def maxPathSum(self, root: TreeNode) -> int:\n",
    "        def dp_tree(root:TreeNode):\n",
    "            if not root:\n",
    "                return([0,0,-1001]);\n",
    "            left_res=dp_tree(root.left);\n",
    "            right_res=dp_tree(root.right);\n",
    "            dp=[0,0,0];\n",
    "            dp[1]=max(dp[1],left_res[1]+root.val,right_res[1]+root.val);\n",
    "            dp[0]=max(left_res[0],right_res[0],left_res[1]+root.val+right_res[1]);\n",
    "            dp[2]=max(left_res[2],right_res[2],root.val)\n",
    "            return(dp);\n",
    "        res=dp_tree(root);\n",
    "        if res[2]<0:\n",
    "            return(res[2]);\n",
    "        else:\n",
    "            return(res[0]);\n",
    "        "
   ]
  },
  {
   "cell_type": "code",
   "execution_count": null,
   "metadata": {},
   "outputs": [],
   "source": [
    "class Solution:\n",
    "    def maxPathSum(self, root: TreeNode) -> int:\n",
    "        def max_Sum(root:TreeNode):\n",
    "            if not root:\n",
    "                return(0);\n",
    "            left_res=max(0,max_Sum(root.left));\n",
    "            right_res=max(0,max_Sum(root.right));\n",
    "            res[0]=max(res[0],left_res+root.val+right_res);\n",
    "            return root.val+max(left_res,right_res)\n",
    "        res=[-float(\"inf\")];\n",
    "        max_Sum(root);\n",
    "        return(res[0]);"
   ]
  }
 ],
 "metadata": {
  "kernelspec": {
   "display_name": "Python 3",
   "language": "python",
   "name": "python3"
  },
  "language_info": {
   "codemirror_mode": {
    "name": "ipython",
    "version": 3
   },
   "file_extension": ".py",
   "mimetype": "text/x-python",
   "name": "python",
   "nbconvert_exporter": "python",
   "pygments_lexer": "ipython3",
   "version": "3.6.4"
  }
 },
 "nbformat": 4,
 "nbformat_minor": 2
}
