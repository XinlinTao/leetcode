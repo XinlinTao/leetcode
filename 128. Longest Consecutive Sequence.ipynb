{
 "cells": [
  {
   "cell_type": "code",
   "execution_count": 2,
   "metadata": {},
   "outputs": [],
   "source": [
    "def longestConsecutive( nums):\n",
    "    res=0\n",
    "    ss=set(nums)\n",
    "    for num in ss:\n",
    "        if num - 1 not in ss:\n",
    "            curr = num\n",
    "            ll = 1\n",
    "            while curr + 1 in ss:\n",
    "                curr += 1\n",
    "                ll += 1\n",
    "            res = max(res, ll)\n",
    "    return(res)"
   ]
  }
 ],
 "metadata": {
  "kernelspec": {
   "display_name": "Python 3",
   "language": "python",
   "name": "python3"
  },
  "language_info": {
   "codemirror_mode": {
    "name": "ipython",
    "version": 3
   },
   "file_extension": ".py",
   "mimetype": "text/x-python",
   "name": "python",
   "nbconvert_exporter": "python",
   "pygments_lexer": "ipython3",
   "version": "3.8.3"
  }
 },
 "nbformat": 4,
 "nbformat_minor": 4
}
