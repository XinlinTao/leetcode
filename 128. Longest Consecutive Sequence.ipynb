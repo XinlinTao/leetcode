    def longestConsecutive(nums) -> int:
        res=0
        ss=set(nums)
        for num in ss:
            if num - 1 not in ss:
                curr = num
                ll = 1
                while curr + 1 in ss:
                    curr += 1
                    ll += 1
                res = max(res, ll)
        return(res)
