{
 "cells": [
  {
   "cell_type": "code",
   "execution_count": 13,
   "metadata": {},
   "outputs": [],
   "source": [
    "def largestRectangleArea(heights):\n",
    "    mono_stack=[-1];\n",
    "    n=len(heights);\n",
    "    left=[0]*n;\n",
    "    right=[n]*n;\n",
    "    for i,h in enumerate(heights):\n",
    "        while mono_stack[-1]!=-1 and heights[mono_stack[-1]]>=h:\n",
    "            right[mono_stack[-1]]=i;\n",
    "            mono_stack.pop();\n",
    "        left[i]=mono_stack[-1];\n",
    "        mono_stack.append(i);\n",
    "    res=0;\n",
    "    for i,h in enumerate(heights):\n",
    "        res=max(res,h*(right[i]-left[i]-1))\n",
    "    return(res)"
   ]
  },
  {
   "cell_type": "code",
   "execution_count": 14,
   "metadata": {},
   "outputs": [
    {
     "name": "stdout",
     "output_type": "stream",
     "text": [
      "[-1, -1, 1, 2, 1, 4]\n",
      "[1, 6, 4, 4, 6, 6]\n"
     ]
    },
    {
     "data": {
      "text/plain": [
       "10"
      ]
     },
     "execution_count": 14,
     "metadata": {},
     "output_type": "execute_result"
    }
   ],
   "source": [
    "heights=[2,1,5,6,2,3];\n",
    "largestRectangleArea(heights)"
   ]
  }
 ],
 "metadata": {
  "kernelspec": {
   "display_name": "Python 3",
   "language": "python",
   "name": "python3"
  },
  "language_info": {
   "codemirror_mode": {
    "name": "ipython",
    "version": 3
   },
   "file_extension": ".py",
   "mimetype": "text/x-python",
   "name": "python",
   "nbconvert_exporter": "python",
   "pygments_lexer": "ipython3",
   "version": "3.6.4"
  }
 },
 "nbformat": 4,
 "nbformat_minor": 2
}
