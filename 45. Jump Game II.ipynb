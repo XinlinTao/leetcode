{
 "cells": [
  {
   "cell_type": "code",
   "execution_count": 54,
   "metadata": {},
   "outputs": [],
   "source": [
    "def jump(nums) -> int:\n",
    "    n=len(nums);\n",
    "    if n==1:\n",
    "        return(0)\n",
    "    max_bound=0;\n",
    "    end=0;\n",
    "    step=0;\n",
    "    for i in range(n):\n",
    "        max_bound=max(max_bound,i+nums[i]);\n",
    "        if i==end:\n",
    "            end=max_bound;\n",
    "            step+=1;\n",
    "        if end>=n-1:\n",
    "            return(step);"
   ]
  },
  {
   "cell_type": "code",
   "execution_count": 53,
   "metadata": {},
   "outputs": [
    {
     "data": {
      "text/plain": [
       "4"
      ]
     },
     "execution_count": 53,
     "metadata": {},
     "output_type": "execute_result"
    }
   ],
   "source": [
    "#nums=[2,3,1,1,4];\n",
    "nums=[1,1,1,1,1]\n",
    "jump(nums)"
   ]
  }
 ],
 "metadata": {
  "kernelspec": {
   "display_name": "Python 3",
   "language": "python",
   "name": "python3"
  },
  "language_info": {
   "codemirror_mode": {
    "name": "ipython",
    "version": 3
   },
   "file_extension": ".py",
   "mimetype": "text/x-python",
   "name": "python",
   "nbconvert_exporter": "python",
   "pygments_lexer": "ipython3",
   "version": "3.6.4"
  }
 },
 "nbformat": 4,
 "nbformat_minor": 2
}
