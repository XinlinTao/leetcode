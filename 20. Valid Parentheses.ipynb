{
 "cells": [
  {
   "cell_type": "code",
   "execution_count": 19,
   "metadata": {},
   "outputs": [],
   "source": [
    "def isValid(s: str) -> bool:\n",
    "    stack=[];\n",
    "    for i in s:\n",
    "        print(stack)\n",
    "        if (i==\"(\") or (i==\"[\") or (i==\"{\"):\n",
    "            stack.append(i);\n",
    "        else:\n",
    "            if (i==\")\") and (len(stack)>0) and (stack[-1]==\"(\"):\n",
    "                stack.pop();\n",
    "            else:\n",
    "                if (i==\"]\") and (len(stack)>0) and (stack[-1]==\"[\"):\n",
    "                    stack.pop();\n",
    "                else:\n",
    "                    if (i==\"}\") and (len(stack)>0) and (stack[-1]==\"{\"):\n",
    "                        stack.pop();\n",
    "                    else:\n",
    "                        return(False);\n",
    "    print(stack)\n",
    "    if stack==[]:\n",
    "        return(True)\n",
    "    else:\n",
    "        return(False)\n",
    "            "
   ]
  },
  {
   "cell_type": "code",
   "execution_count": 18,
   "metadata": {},
   "outputs": [
    {
     "name": "stdout",
     "output_type": "stream",
     "text": [
      "[]\n",
      "['(']\n",
      "[]\n",
      "['[']\n",
      "[]\n"
     ]
    },
    {
     "data": {
      "text/plain": [
       "False"
      ]
     },
     "execution_count": 18,
     "metadata": {},
     "output_type": "execute_result"
    }
   ],
   "source": [
    "isValid(\"()[]{}\")\n"
   ]
  }
 ],
 "metadata": {
  "kernelspec": {
   "display_name": "Python 3",
   "language": "python",
   "name": "python3"
  },
  "language_info": {
   "codemirror_mode": {
    "name": "ipython",
    "version": 3
   },
   "file_extension": ".py",
   "mimetype": "text/x-python",
   "name": "python",
   "nbconvert_exporter": "python",
   "pygments_lexer": "ipython3",
   "version": "3.6.4"
  }
 },
 "nbformat": 4,
 "nbformat_minor": 2
}
