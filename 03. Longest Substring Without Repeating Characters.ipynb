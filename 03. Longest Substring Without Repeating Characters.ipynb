{
 "cells": [
  {
   "cell_type": "code",
   "execution_count": 29,
   "metadata": {},
   "outputs": [],
   "source": [
    "def lengthOfLongestSubstring(s: str) -> int:\n",
    "    pool=set();\n",
    "    maxlen=0;\n",
    "    i=j=0;\n",
    "    n=len(s);\n",
    "    while ((i<n) and (j<n)):\n",
    "        if (not (s[j] in pool)):\n",
    "            pool.add(s[j]);\n",
    "            j+=1;\n",
    "            if (j==n):\n",
    "                return(max(maxlen,j-i))\n",
    "        else:\n",
    "            maxlen=max(maxlen,j-i);\n",
    "            pool.remove(s[i]);\n",
    "            i+=1;\n",
    "    return(maxlen);"
   ]
  },
  {
   "cell_type": "code",
   "execution_count": 30,
   "metadata": {},
   "outputs": [
    {
     "data": {
      "text/plain": [
       "3"
      ]
     },
     "execution_count": 30,
     "metadata": {},
     "output_type": "execute_result"
    }
   ],
   "source": [
    "a=set('abc')\n",
    "b='abc'\n",
    "lengthOfLongestSubstring(b)"
   ]
  }
 ],
 "metadata": {
  "kernelspec": {
   "display_name": "Python 3",
   "language": "python",
   "name": "python3"
  },
  "language_info": {
   "codemirror_mode": {
    "name": "ipython",
    "version": 3
   },
   "file_extension": ".py",
   "mimetype": "text/x-python",
   "name": "python",
   "nbconvert_exporter": "python",
   "pygments_lexer": "ipython3",
   "version": "3.6.4"
  }
 },
 "nbformat": 4,
 "nbformat_minor": 2
}
