{
 "cells": [
  {
   "cell_type": "code",
   "execution_count": 4,
   "metadata": {},
   "outputs": [],
   "source": [
    "class Queue:\n",
    "    def __init__(self,n):\n",
    "        self.queue=[0]*n;\n",
    "        self.len=n;\n",
    "        self.head=0;\n",
    "        self.tail=-1;\n",
    "        self.isempty=True;\n",
    "    def append(self,ele):\n",
    "        self.tail+=1;\n",
    "        self.tail=self.tail%self.len;\n",
    "        self.queue[self.tail]=ele;\n",
    "        self.isempty=False;\n",
    "    def pop(self):\n",
    "        self.head+=1;\n",
    "        self.head=self.head%self.len;\n",
    "        if self.head==(self.tail+1)%self.len:\n",
    "            self.isempty=True;\n",
    "    def qhead(self):\n",
    "        return(self.queue[self.head]);\n",
    "    def qtail(self):\n",
    "        return(self.queue[self.tail]);"
   ]
  },
  {
   "cell_type": "code",
   "execution_count": 70,
   "metadata": {},
   "outputs": [],
   "source": [
    "def canFinish(numCourses, prerequisites):\n",
    "    if not prerequisites:\n",
    "        return(True)\n",
    "    deg=[0]*numCourses;\n",
    "    for pre in prerequisites:\n",
    "        deg[pre[1]]+=1;\n",
    "    q=Queue(numCourses);\n",
    "    prerequisites.sort(key=lambda x:x[0]);\n",
    "    print(prerequisites)\n",
    "    edge_dict=[0]*numCourses;\n",
    "    for i,edge in enumerate(prerequisites):\n",
    "        if not i or edge[0]==prerequisites[i-1][0]: continue;\n",
    "        for j in range(prerequisites[i-1][0]+1,edge[0]+1):\n",
    "            edge_dict[j]=i;\n",
    "    if prerequisites[-1][0]!=numCourses-1:\n",
    "        for j in range(prerequisites[i-1][0]+1,numCourses):\n",
    "            edge_dict[j]=len(prerequisites);\n",
    "    edge_dict+=[len(prerequisites)];\n",
    "    print(edge_dict)\n",
    "    for i,degree in enumerate(deg):\n",
    "        if not degree:\n",
    "            q.append(i);\n",
    "    count=0;\n",
    "    while not q.isempty:\n",
    "        vert=q.qhead();\n",
    "        q.pop();\n",
    "        count+=1;\n",
    "        for i,edge in enumerate(prerequisites[edge_dict[vert]:edge_dict[vert+1]]):\n",
    "            deg[edge[1]]-=1;\n",
    "            if deg[edge[1]]==0:\n",
    "                q.append(edge[1]);        \n",
    "    return(count==numCourses)\n",
    "    "
   ]
  },
  {
   "cell_type": "code",
   "execution_count": 71,
   "metadata": {},
   "outputs": [
    {
     "name": "stdout",
     "output_type": "stream",
     "text": [
      "[[0, 3], [0, 2], [1, 0], [2, 5], [2, 4], [3, 2], [4, 5], [5, 6]]\n",
      "[0, 2, 3, 5, 6, 8, 8, 8]\n"
     ]
    },
    {
     "data": {
      "text/plain": [
       "True"
      ]
     },
     "execution_count": 71,
     "metadata": {},
     "output_type": "execute_result"
    }
   ],
   "source": [
    "numCourses = 7;\n",
    "prerequisites = [[1,0],[0,3],[0,2],[3,2],[2,5],[4,5],[5,6],[2,4]];\n",
    "canFinish(numCourses,prerequisites)"
   ]
  },
  {
   "cell_type": "code",
   "execution_count": 61,
   "metadata": {},
   "outputs": [
    {
     "name": "stdout",
     "output_type": "stream",
     "text": [
      "0\n"
     ]
    }
   ],
   "source": [
    "for i in range(0,1):\n",
    "    print(i)"
   ]
  }
 ],
 "metadata": {
  "kernelspec": {
   "display_name": "Python 3",
   "language": "python",
   "name": "python3"
  },
  "language_info": {
   "codemirror_mode": {
    "name": "ipython",
    "version": 3
   },
   "file_extension": ".py",
   "mimetype": "text/x-python",
   "name": "python",
   "nbconvert_exporter": "python",
   "pygments_lexer": "ipython3",
   "version": "3.6.4"
  }
 },
 "nbformat": 4,
 "nbformat_minor": 2
}
