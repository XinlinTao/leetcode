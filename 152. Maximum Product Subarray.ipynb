{
 "cells": [
  {
   "cell_type": "code",
   "execution_count": 19,
   "metadata": {},
   "outputs": [],
   "source": [
    "def maxProduct(nums):\n",
    "    min_prod=nums[0];\n",
    "    max_prod=nums[0];\n",
    "    res=nums[0];\n",
    "    #print(min_prod,\" \",max_prod,\" \",res)\n",
    "    for i,num in enumerate(nums):\n",
    "        if i==0:\n",
    "            continue;\n",
    "\n",
    "        min_prod_new=min(num,max_prod*num,min_prod*num);\n",
    "        max_prod_new=max(num,min_prod*num,max_prod*num);\n",
    "        min_prod=min_prod_new;\n",
    "        max_prod=max_prod_new;\n",
    "        res=max(max_prod,res);\n",
    "        #print(min_prod,\" \",max_prod,\" \",res)\n",
    "    return(res)"
   ]
  },
  {
   "cell_type": "code",
   "execution_count": 20,
   "metadata": {},
   "outputs": [
    {
     "name": "stdout",
     "output_type": "stream",
     "text": [
      "2   2   2\n",
      "3   6   6\n",
      "-12   -2   6\n",
      "-48   4   6\n"
     ]
    },
    {
     "data": {
      "text/plain": [
       "6"
      ]
     },
     "execution_count": 20,
     "metadata": {},
     "output_type": "execute_result"
    }
   ],
   "source": [
    "nums=[2,3,-2,4];\n",
    "maxProduct(nums)"
   ]
  },
  {
   "cell_type": "code",
   "execution_count": 16,
   "metadata": {},
   "outputs": [
    {
     "data": {
      "text/plain": [
       "1"
      ]
     },
     "execution_count": 16,
     "metadata": {},
     "output_type": "execute_result"
    }
   ],
   "source": [
    "min(2,1,3)"
   ]
  }
 ],
 "metadata": {
  "kernelspec": {
   "display_name": "Python 3",
   "language": "python",
   "name": "python3"
  },
  "language_info": {
   "codemirror_mode": {
    "name": "ipython",
    "version": 3
   },
   "file_extension": ".py",
   "mimetype": "text/x-python",
   "name": "python",
   "nbconvert_exporter": "python",
   "pygments_lexer": "ipython3",
   "version": "3.6.4"
  }
 },
 "nbformat": 4,
 "nbformat_minor": 2
}
