{
 "cells": [
  {
   "cell_type": "code",
   "execution_count": 1,
   "metadata": {},
   "outputs": [],
   "source": [
    "class ListNode:\n",
    "    def __init__(self, val=0, next=None):\n",
    "        self.val = val\n",
    "        self.next = next;"
   ]
  },
  {
   "cell_type": "code",
   "execution_count": 5,
   "metadata": {},
   "outputs": [],
   "source": [
    "def mergeTwoLists(l1: ListNode, l2: ListNode) -> ListNode:\n",
    "    p1=l1;\n",
    "    p2=l2;\n",
    "    head=ListNode(0);\n",
    "    p=head;\n",
    "    while p1 or p2:\n",
    "        if not p1:\n",
    "            p.next=p2;\n",
    "            break;\n",
    "        if not p2:\n",
    "            p.next=p1;\n",
    "            break;\n",
    "        if p1.val<p2.val:\n",
    "            p.next=ListNode(p1.val);\n",
    "            p=p.next;\n",
    "            p1=p1.next;\n",
    "        else:\n",
    "            p.next=ListNode(p2.val);\n",
    "            p=p.next;\n",
    "            \n",
    "    return(head.next);"
   ]
  }
 ],
 "metadata": {
  "kernelspec": {
   "display_name": "Python 3",
   "language": "python",
   "name": "python3"
  },
  "language_info": {
   "codemirror_mode": {
    "name": "ipython",
    "version": 3
   },
   "file_extension": ".py",
   "mimetype": "text/x-python",
   "name": "python",
   "nbconvert_exporter": "python",
   "pygments_lexer": "ipython3",
   "version": "3.6.4"
  }
 },
 "nbformat": 4,
 "nbformat_minor": 2
}
