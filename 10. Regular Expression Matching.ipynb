{
 "cells": [
  {
   "cell_type": "code",
   "execution_count": 30,
   "metadata": {},
   "outputs": [],
   "source": [
    "def isMatch(s: str, p: str) -> bool:\n",
    "    res={};\n",
    "    n=len(s);\n",
    "    m=len(p);\n",
    "    def dp(i,j):\n",
    "        if ((i,j) in res):\n",
    "            return res[(i,j)];\n",
    "        if ((j>=m)and(i>=n)):\n",
    "            res[(i,j)]=True;\n",
    "            return(res[(i,j)]);\n",
    "        if (i>=n)and(j<m-1)and(p[j+1]=='*'):\n",
    "            res[(i,j)]=dp(i,j+2);\n",
    "            return(res[(i,j)])\n",
    "        if ((j>=m)or(i>=n)):\n",
    "            res[(i,j)]=False;\n",
    "            return(res[(i,j)]);\n",
    "        firstmatch=(s[i]==p[j])or(p[j]=='.');\n",
    "        if ((j==m-1)or(p[j+1]!='*')):\n",
    "            res[(i,j)]=firstmatch and dp(i+1,j+1);\n",
    "            return(res[(i,j)]);\n",
    "        else: \n",
    "            res[(i,j)]=dp(i,j+2) or (firstmatch and dp(i+1,j));\n",
    "            return(res[(i,j)]);\n",
    "        res[(i,j)]=False;\n",
    "        return(res[(i,j)]);\n",
    "    #ans=dp(0,0)\n",
    "    #print(res);\n",
    "    return(dp(0,0))\n",
    "    ;"
   ]
  },
  {
   "cell_type": "code",
   "execution_count": 35,
   "metadata": {},
   "outputs": [
    {
     "name": "stdout",
     "output_type": "stream",
     "text": [
      "{(2, 4): False, (3, 4): False, (6, 10): False, (5, 9): False, (5, 7): False, (7, 10): False, (6, 9): False, (6, 7): False, (8, 10): False, (7, 9): False, (7, 7): False, (7, 5): False, (6, 5): False, (5, 5): False, (4, 4): False, (4, 2): False, (3, 2): False, (2, 2): False, (1, 1): False, (0, 0): False}\n"
     ]
    },
    {
     "data": {
      "text/plain": [
       "False"
      ]
     },
     "execution_count": 35,
     "metadata": {},
     "output_type": "execute_result"
    }
   ],
   "source": [
    "s = \"mississippi\"\n",
    "p = \"mis*is*p*.\"\n",
    "isMatch(s,p)"
   ]
  }
 ],
 "metadata": {
  "kernelspec": {
   "display_name": "Python 3",
   "language": "python",
   "name": "python3"
  },
  "language_info": {
   "codemirror_mode": {
    "name": "ipython",
    "version": 3
   },
   "file_extension": ".py",
   "mimetype": "text/x-python",
   "name": "python",
   "nbconvert_exporter": "python",
   "pygments_lexer": "ipython3",
   "version": "3.6.4"
  }
 },
 "nbformat": 4,
 "nbformat_minor": 2
}
