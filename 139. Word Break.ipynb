{
 "cells": [
  {
   "cell_type": "code",
   "execution_count": 45,
   "metadata": {},
   "outputs": [],
   "source": [
    "def wordBreak(s: str, wordDict):\n",
    "    n=len(s);\n",
    "    dp=set();\n",
    "    dp.add(-1);\n",
    "    d=set(wordDict)\n",
    "    for i in range(n):\n",
    "        for j in range(i+1):\n",
    "            if i in dp:\n",
    "                    break;\n",
    "            if s[j:i+1] in d:\n",
    "                if j-1 in dp:\n",
    "                    dp.add(i)\n",
    "    return(n-1 in dp);"
   ]
  },
  {
   "cell_type": "code",
   "execution_count": 41,
   "metadata": {},
   "outputs": [],
   "source": [
    "\n",
    "s=\"aaaaaaa\"\n",
    "wordDict=[\"aaaa\",\"aaa\"]"
   ]
  },
  {
   "cell_type": "code",
   "execution_count": 44,
   "metadata": {},
   "outputs": [
    {
     "name": "stdout",
     "output_type": "stream",
     "text": [
      "[False, False, False, False, False, False, False, True]\n"
     ]
    },
    {
     "data": {
      "text/plain": [
       "[False, False, True, True, False, True, True, True]"
      ]
     },
     "execution_count": 44,
     "metadata": {},
     "output_type": "execute_result"
    }
   ],
   "source": [
    "wordBreak(s,wordDict)"
   ]
  }
 ],
 "metadata": {
  "kernelspec": {
   "display_name": "Python 3",
   "language": "python",
   "name": "python3"
  },
  "language_info": {
   "codemirror_mode": {
    "name": "ipython",
    "version": 3
   },
   "file_extension": ".py",
   "mimetype": "text/x-python",
   "name": "python",
   "nbconvert_exporter": "python",
   "pygments_lexer": "ipython3",
   "version": "3.6.4"
  }
 },
 "nbformat": 4,
 "nbformat_minor": 2
}
