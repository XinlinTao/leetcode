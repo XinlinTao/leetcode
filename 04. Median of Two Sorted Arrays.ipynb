{
 "cells": [
  {
   "cell_type": "code",
   "execution_count": 91,
   "metadata": {},
   "outputs": [],
   "source": [
    "class Solution:\n",
    "    def findMedianSortedArrays(self, nums1: List[int], nums2: List[int]) -> float:\n",
    "        inf=2**31-2\n",
    "        l1=nums1+[inf];\n",
    "        l2=nums2+[inf];\n",
    "        n1=len(l1);\n",
    "        n2=len(l2)\n",
    "        def findkthsmallest(h1,h2,k):\n",
    "            if k is 1:\n",
    "                return(min(l1[h1],l2[h2]));\n",
    "            p1=min(h1+k//2-1,n1-1);\n",
    "            p2=min(h2+k//2-1,n2-1);\n",
    "            if (l1[p1]<=l2[p2]):\n",
    "                return(findkthsmallest(p1+1,h2,k-k//2));\n",
    "            else:\n",
    "                return(findkthsmallest(h1,p2+1,k-k//2));\n",
    "        if ((len(l1)+len(l2)) % 2 is 0):\n",
    "            med=(len(l1)-1+len(l2)-1)//2;\n",
    "            return((findkthsmallest(0,0,med)+findkthsmallest(0,0,med+1))/2);\n",
    "        else:\n",
    "            med=(len(l1)+len(l2)-1)//2;\n",
    "            return(findkthsmallest(0,0,med));"
   ]
  },
  {
   "cell_type": "code",
   "execution_count": 92,
   "metadata": {},
   "outputs": [
    {
     "name": "stdout",
     "output_type": "stream",
     "text": [
      "0 0 3\n",
      "[2147483646]\n",
      "[1, 2, 3, 4, 5, 6, 2147483646]\n",
      "(0, 0)\n",
      "[2147483646, 1]\n",
      "0 1 2\n",
      "[2147483646]\n",
      "[2, 3, 4, 5, 6, 2147483646]\n",
      "(0, 1)\n",
      "[2147483646, 2]\n",
      "0 2 1\n",
      "[2147483646]\n",
      "[3, 4, 5, 6, 2147483646]\n",
      "0 0 4\n",
      "[2147483646]\n",
      "[1, 2, 3, 4, 5, 6, 2147483646]\n",
      "(0, 1)\n",
      "[2147483646, 2]\n",
      "0 2 2\n",
      "[2147483646]\n",
      "[3, 4, 5, 6, 2147483646]\n",
      "(0, 2)\n",
      "[2147483646, 3]\n",
      "0 3 1\n",
      "[2147483646]\n",
      "[4, 5, 6, 2147483646]\n"
     ]
    },
    {
     "data": {
      "text/plain": [
       "3.5"
      ]
     },
     "execution_count": 92,
     "metadata": {},
     "output_type": "execute_result"
    }
   ],
   "source": [
    "nums1=[];\n",
    "nums2=[1,2,3,4,5,6];\n",
    "findMedianSortedArrays(nums1,nums2)"
   ]
  },
  {
   "cell_type": "code",
   "execution_count": 76,
   "metadata": {},
   "outputs": [
    {
     "data": {
      "text/plain": [
       "1"
      ]
     },
     "execution_count": 76,
     "metadata": {},
     "output_type": "execute_result"
    }
   ],
   "source": [
    "nums1[0]"
   ]
  }
 ],
 "metadata": {
  "kernelspec": {
   "display_name": "Python 3",
   "language": "python",
   "name": "python3"
  },
  "language_info": {
   "codemirror_mode": {
    "name": "ipython",
    "version": 3
   },
   "file_extension": ".py",
   "mimetype": "text/x-python",
   "name": "python",
   "nbconvert_exporter": "python",
   "pygments_lexer": "ipython3",
   "version": "3.6.4"
  }
 },
 "nbformat": 4,
 "nbformat_minor": 2
}
