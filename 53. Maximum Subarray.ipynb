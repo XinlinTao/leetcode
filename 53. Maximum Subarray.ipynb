{
 "cells": [
  {
   "cell_type": "code",
   "execution_count": null,
   "metadata": {},
   "outputs": [],
   "source": [
    "def maxSubArray(nums):\n",
    "    def getsums(nums,l,r):\n",
    "        if l==r:\n",
    "            return([nums[l],nums[l],nums[l],nums[l]]);\n",
    "        m=(l+r)//2;\n",
    "        left_res=getsums(nums,l,m);\n",
    "        right_res=getsums(nums,m+1,r);\n",
    "        res=[0,0,0,0];\n",
    "        res[0]=left_res[0]+right_res[0];\n",
    "        res[1]=max(left_res[1],left_res[0]+right_res[1]);\n",
    "        res[2]=max(right_res[2],right_res[0]+left_res[2]);\n",
    "        res[3]=max(left_res[3],right_res[3],left_res[2]+right_res[1]);\n",
    "        return(res);\n",
    "    n=len(nums);\n",
    "    if n==0:\n",
    "        return(0);\n",
    "    \n",
    "    "
   ]
  }
 ],
 "metadata": {
  "kernelspec": {
   "display_name": "Python 3",
   "language": "python",
   "name": "python3"
  },
  "language_info": {
   "codemirror_mode": {
    "name": "ipython",
    "version": 3
   },
   "file_extension": ".py",
   "mimetype": "text/x-python",
   "name": "python",
   "nbconvert_exporter": "python",
   "pygments_lexer": "ipython3",
   "version": "3.6.4"
  }
 },
 "nbformat": 4,
 "nbformat_minor": 2
}
