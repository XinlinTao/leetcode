{
 "cells": [
  {
   "cell_type": "code",
   "execution_count": 16,
   "metadata": {},
   "outputs": [],
   "source": [
    "def minPathSum(grid):\n",
    "    n=len(grid[0]);\n",
    "    res=[0]*n;\n",
    "    res[0]=grid[0][0]\n",
    "    for i,l in enumerate(grid):\n",
    "        if i==0:\n",
    "            for j in range(1,n):\n",
    "                res[j]=res[j-1]+l[j];\n",
    "        else:\n",
    "            res[0]=res[0]+grid[i][0]\n",
    "            for j in range(1,n):\n",
    "                res[j]=min(res[j-1],res[j])+l[j];\n",
    "        print(res)\n",
    "    return(res[n-1]);\n",
    "\n",
    "            "
   ]
  },
  {
   "cell_type": "code",
   "execution_count": 17,
   "metadata": {},
   "outputs": [
    {
     "name": "stdout",
     "output_type": "stream",
     "text": [
      "[1, 3]\n",
      "[2, 3]\n"
     ]
    },
    {
     "data": {
      "text/plain": [
       "3"
      ]
     },
     "execution_count": 17,
     "metadata": {},
     "output_type": "execute_result"
    }
   ],
   "source": [
    "grid=[\n",
    "  [1,2],\n",
    "  [1,1]\n",
    "]\n",
    "minPathSum(grid)"
   ]
  }
 ],
 "metadata": {
  "kernelspec": {
   "display_name": "Python 3",
   "language": "python",
   "name": "python3"
  },
  "language_info": {
   "codemirror_mode": {
    "name": "ipython",
    "version": 3
   },
   "file_extension": ".py",
   "mimetype": "text/x-python",
   "name": "python",
   "nbconvert_exporter": "python",
   "pygments_lexer": "ipython3",
   "version": "3.6.4"
  }
 },
 "nbformat": 4,
 "nbformat_minor": 2
}
