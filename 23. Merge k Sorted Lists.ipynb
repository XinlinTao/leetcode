{
 "cells": [
  {
   "cell_type": "code",
   "execution_count": null,
   "metadata": {},
   "outputs": [],
   "source": [
    "from queue import PriorityQueue\n",
    "class Solution:\n",
    "    def mergeKLists(self, lists: List[ListNode]) -> ListNode:\n",
    "        head=p=ListNode(0);\n",
    "        q=PriorityQueue();\n",
    "        i=0;\n",
    "        for i,l in enumerate(lists):\n",
    "            if l:\n",
    "                q.put((l.val,i,l));\n",
    "                \n",
    "        while not q.empty():\n",
    "            val,ind,point=q.get();\n",
    "            #point=lists[ind];\n",
    "            p.next=ListNode(val);\n",
    "            p=p.next;\n",
    "            point=point.next;\n",
    "            if point:\n",
    "                q.put((point.val,ind,point));\n",
    "        return(head.next);"
   ]
  }
 ],
 "metadata": {
  "kernelspec": {
   "display_name": "Python 3",
   "language": "python",
   "name": "python3"
  },
  "language_info": {
   "codemirror_mode": {
    "name": "ipython",
    "version": 3
   },
   "file_extension": ".py",
   "mimetype": "text/x-python",
   "name": "python",
   "nbconvert_exporter": "python",
   "pygments_lexer": "ipython3",
   "version": "3.6.4"
  }
 },
 "nbformat": 4,
 "nbformat_minor": 2
}
