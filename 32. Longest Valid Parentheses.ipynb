{
 "cells": [
  {
   "cell_type": "code",
   "execution_count": 3,
   "metadata": {},
   "outputs": [
    {
     "data": {
      "text/plain": [
       "1"
      ]
     },
     "execution_count": 3,
     "metadata": {},
     "output_type": "execute_result"
    }
   ],
   "source": [
    "s=\"a\""
   ]
  },
  {
   "cell_type": "code",
   "execution_count": 30,
   "metadata": {},
   "outputs": [],
   "source": [
    "def longestValidParentheses(s: str) -> int:\n",
    "    n=len(s);\n",
    "    if n<=1:\n",
    "        return(0);\n",
    "    dp=[];\n",
    "    for i in range(n):\n",
    "        dp+=[0];\n",
    "        if s[i]==\")\" and ((i-1)>=0) and s[i-1]==\"(\":\n",
    "            dp[i]=dp[i-2]+2;\n",
    "        if s[i]==\")\" and s[i-1]==\")\":\n",
    "            right=i;\n",
    "            left=i-1-dp[i-1];\n",
    "            if left>=1 and s[left]==\"(\":\n",
    "                dp[i]=dp[left-1]+dp[i-1]+2;\n",
    "            if left==0 and s[left]==\"(\":\n",
    "                dp[i]=dp[i-1]+2;\n",
    "    return(max(dp));\n",
    "    #print(dp)\n",
    "    #p=dp.index(sol);\n",
    "    #return(s[p-max(dp)+1:(p+1)])"
   ]
  },
  {
   "cell_type": "code",
   "execution_count": 31,
   "metadata": {},
   "outputs": [
    {
     "name": "stdout",
     "output_type": "stream",
     "text": [
      "0\n"
     ]
    }
   ],
   "source": [
    "s = \")(\"\n",
    "print(longestValidParentheses(s))"
   ]
  },
  {
   "cell_type": "code",
   "execution_count": 5,
   "metadata": {},
   "outputs": [
    {
     "data": {
      "text/plain": [
       "2"
      ]
     },
     "execution_count": 5,
     "metadata": {},
     "output_type": "execute_result"
    }
   ],
   "source": [
    "a=[1,2,3];\n",
    "a.index(3)"
   ]
  }
 ],
 "metadata": {
  "kernelspec": {
   "display_name": "Python 3",
   "language": "python",
   "name": "python3"
  },
  "language_info": {
   "codemirror_mode": {
    "name": "ipython",
    "version": 3
   },
   "file_extension": ".py",
   "mimetype": "text/x-python",
   "name": "python",
   "nbconvert_exporter": "python",
   "pygments_lexer": "ipython3",
   "version": "3.6.4"
  }
 },
 "nbformat": 4,
 "nbformat_minor": 2
}
