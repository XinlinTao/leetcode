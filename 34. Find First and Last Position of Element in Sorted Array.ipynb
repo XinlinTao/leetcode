{
 "cells": [
  {
   "cell_type": "code",
   "execution_count": 33,
   "metadata": {},
   "outputs": [],
   "source": [
    "def searchRange(nums, target):\n",
    "    if nums==[]:\n",
    "        return([-1,-1]);\n",
    "    def find_less(nums,target,l,r):\n",
    "        if target<=nums[l]:\n",
    "            return(l-1);\n",
    "        if l==r or l==r-1:\n",
    "            return(l);\n",
    "        mid=(l+r)//2;\n",
    "        if nums[mid]<target:\n",
    "            return(find_less(nums,target,mid,r));\n",
    "        if nums[mid]>=target:\n",
    "            return(find_less(nums,target,l,mid));\n",
    "    def find_great(nums,target,l,r):\n",
    "        if target>=nums[r]:\n",
    "            return(r+1);\n",
    "        if l==r or l==r-1:\n",
    "            return(r);\n",
    "        mid=(l+r)//2;\n",
    "        if nums[mid]<=target:\n",
    "            return(find_great(nums,target,mid,r));\n",
    "        if nums[mid]>target:\n",
    "            return(find_great(nums,target,l,mid));\n",
    "    n=len(nums);\n",
    "    left=find_less(nums,target,0,n-1);\n",
    "    right=find_great(nums,target,0,n-1);\n",
    "    if left+1>right-1:\n",
    "        return([-1,-1]);\n",
    "    else:\n",
    "        return([left+1,right-1]);"
   ]
  },
  {
   "cell_type": "code",
   "execution_count": 29,
   "metadata": {},
   "outputs": [],
   "source": [
    "    def find_less(nums,target,l,r):\n",
    "        if target<=nums[l]:\n",
    "            return(l-1);\n",
    "        if l==r or l==r-1:\n",
    "            return(l);\n",
    "        mid=(l+r)//2;\n",
    "        if nums[mid]<target:\n",
    "            return(find_less(nums,target,mid,r));\n",
    "        if nums[mid]>=target:\n",
    "            return(find_less(nums,target,l,mid));\n",
    "    def find_great(nums,target,l,r):\n",
    "        if target>=nums[r]:\n",
    "            return(r+1);\n",
    "        if l==r or l==r-1:\n",
    "            return(r);\n",
    "        mid=(l+r)//2;\n",
    "        if nums[mid]<=target:\n",
    "            return(find_great(nums,target,mid,r));\n",
    "        if nums[mid]>target:\n",
    "            return(find_great(nums,target,l,mid));"
   ]
  },
  {
   "cell_type": "code",
   "execution_count": 34,
   "metadata": {},
   "outputs": [],
   "source": [
    "nums = [2,2];\n",
    "target = 1;\n"
   ]
  },
  {
   "cell_type": "code",
   "execution_count": 35,
   "metadata": {},
   "outputs": [
    {
     "name": "stdout",
     "output_type": "stream",
     "text": [
      "-1\n",
      "1\n"
     ]
    }
   ],
   "source": [
    "print(find_less(nums,target,0,1))\n",
    "print(find_great(nums,target,0,1))\n"
   ]
  }
 ],
 "metadata": {
  "kernelspec": {
   "display_name": "Python 3",
   "language": "python",
   "name": "python3"
  },
  "language_info": {
   "codemirror_mode": {
    "name": "ipython",
    "version": 3
   },
   "file_extension": ".py",
   "mimetype": "text/x-python",
   "name": "python",
   "nbconvert_exporter": "python",
   "pygments_lexer": "ipython3",
   "version": "3.6.4"
  }
 },
 "nbformat": 4,
 "nbformat_minor": 2
}
