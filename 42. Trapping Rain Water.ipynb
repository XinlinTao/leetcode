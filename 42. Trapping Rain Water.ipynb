{
 "cells": [
  {
   "cell_type": "code",
   "execution_count": null,
   "metadata": {},
   "outputs": [],
   "source": [
    "def trap(height) -> int:\n",
    "    if height==[]:\n",
    "        return(0);\n",
    "    r=len(height)-1;\n",
    "    l=0;\n",
    "    max_left=height[l];\n",
    "    max_right=height[r];\n",
    "    res=0\n",
    "    while l<r:\n",
    "        if height[l]<height[r]:\n",
    "            max_left=max(height[l],max_left);\n",
    "            res+=max_left-height[l];\n",
    "            l+=1;\n",
    "        else:\n",
    "            max_right=max(height[r],max_right);\n",
    "            res+=max_right-height[r];\n",
    "            r-=1;\n",
    "    return(res)\n",
    "        "
   ]
  }
 ],
 "metadata": {
  "kernelspec": {
   "display_name": "Python 3",
   "language": "python",
   "name": "python3"
  },
  "language_info": {
   "codemirror_mode": {
    "name": "ipython",
    "version": 3
   },
   "file_extension": ".py",
   "mimetype": "text/x-python",
   "name": "python",
   "nbconvert_exporter": "python",
   "pygments_lexer": "ipython3",
   "version": "3.6.4"
  }
 },
 "nbformat": 4,
 "nbformat_minor": 2
}
