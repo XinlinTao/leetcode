{
 "cells": [
  {
   "cell_type": "code",
   "execution_count": 1,
   "metadata": {},
   "outputs": [],
   "source": [
    "class ListNode:\n",
    "    def __init__(self, x):\n",
    "        self.val = x\n",
    "        self.next = None"
   ]
  },
  {
   "cell_type": "code",
   "execution_count": null,
   "metadata": {},
   "outputs": [],
   "source": [
    "def detectCycle(head):   \n",
    "    if not head:\n",
    "        return(None)\n",
    "    fast=head;\n",
    "    slow=head;\n",
    "    while fast:\n",
    "        if fast.next:\n",
    "            fast=fast.next.next;\n",
    "        else:\n",
    "            return(None);\n",
    "        slow=slow.next;\n",
    "        while slow!=fast:\n",
    "            if fast and fast.next:\n",
    "                fast=fast.next.next;\n",
    "            else:\n",
    "                return(None);\n",
    "            slow=slow.next;\n",
    "        p=head;\n",
    "        while p!=slow:\n",
    "            p=p.next;\n",
    "            slow=slow.next;\n",
    "        return(p);\n",
    "    return(None);        \n"
   ]
  }
 ],
 "metadata": {
  "kernelspec": {
   "display_name": "Python 3",
   "language": "python",
   "name": "python3"
  },
  "language_info": {
   "codemirror_mode": {
    "name": "ipython",
    "version": 3
   },
   "file_extension": ".py",
   "mimetype": "text/x-python",
   "name": "python",
   "nbconvert_exporter": "python",
   "pygments_lexer": "ipython3",
   "version": "3.6.4"
  }
 },
 "nbformat": 4,
 "nbformat_minor": 2
}
