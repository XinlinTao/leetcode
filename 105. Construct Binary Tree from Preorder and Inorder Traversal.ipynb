{
 "cells": [
  {
   "cell_type": "code",
   "execution_count": 1,
   "metadata": {},
   "outputs": [],
   "source": [
    "class TreeNode:\n",
    "    def __init__(self, val=0, left=None, right=None):\n",
    "        self.val = val\n",
    "        self.left = left\n",
    "        self.right = right"
   ]
  },
  {
   "cell_type": "code",
   "execution_count": 2,
   "metadata": {},
   "outputs": [],
   "source": [
    "def buildTree(preorder, inorder) -> TreeNode:\n",
    "    ind={};\n",
    "    for i,ele in enumerate(inorder):\n",
    "        ind[ele]=i;\n",
    "    def construct(pre_left,pre_right,inorder_left,inorder_right):\n",
    "        if pre_left>pre_right:\n",
    "            return(None);\n",
    "        root_ind=ind[preorder[pre_left]];\n",
    "        l=root_ind-inorder_left;\n",
    "        res=TreeNode(preorder[pre_left]);\n",
    "        res.left=construct(pre_left+1,pre_left+l,inorder_left,root_ind-1);\n",
    "        res.right=construct(pre_left+l+1,pre_right,root_ind+1,inorder_right);\n",
    "        return(res);\n",
    "    n=len(preorder);\n",
    "    return(construct(0,n-1,0,n-1));"
   ]
  }
 ],
 "metadata": {
  "kernelspec": {
   "display_name": "Python 3",
   "language": "python",
   "name": "python3"
  },
  "language_info": {
   "codemirror_mode": {
    "name": "ipython",
    "version": 3
   },
   "file_extension": ".py",
   "mimetype": "text/x-python",
   "name": "python",
   "nbconvert_exporter": "python",
   "pygments_lexer": "ipython3",
   "version": "3.6.4"
  }
 },
 "nbformat": 4,
 "nbformat_minor": 2
}
