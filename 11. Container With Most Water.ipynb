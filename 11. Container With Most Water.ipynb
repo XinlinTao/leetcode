{
 "cells": [
  {
   "cell_type": "code",
   "execution_count": 2,
   "metadata": {},
   "outputs": [],
   "source": [
    "def maxArea(height) -> int:\n",
    "    p1=0;\n",
    "    p2=len(height)-1;\n",
    "    res=0;\n",
    "    while (p1<p2):\n",
    "        if height[p1]<height[p2]:\n",
    "            res=max(res,height[p1]*(p2-p1));\n",
    "            p1+=1;\n",
    "        else:\n",
    "            res=max(res,height[p2]*(p2-p1));\n",
    "            p2-=1;\n",
    "    return(res);"
   ]
  },
  {
   "cell_type": "code",
   "execution_count": 3,
   "metadata": {},
   "outputs": [
    {
     "data": {
      "text/plain": [
       "49"
      ]
     },
     "execution_count": 3,
     "metadata": {},
     "output_type": "execute_result"
    }
   ],
   "source": [
    "height=[1,8,6,2,5,4,8,3,7];\n",
    "maxArea(height)"
   ]
  }
 ],
 "metadata": {
  "kernelspec": {
   "display_name": "Python 3",
   "language": "python",
   "name": "python3"
  },
  "language_info": {
   "codemirror_mode": {
    "name": "ipython",
    "version": 3
   },
   "file_extension": ".py",
   "mimetype": "text/x-python",
   "name": "python",
   "nbconvert_exporter": "python",
   "pygments_lexer": "ipython3",
   "version": "3.6.4"
  }
 },
 "nbformat": 4,
 "nbformat_minor": 2
}
