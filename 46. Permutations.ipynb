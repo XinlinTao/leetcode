{
 "cells": [
  {
   "cell_type": "code",
   "execution_count": 6,
   "metadata": {},
   "outputs": [],
   "source": [
    "def permute(nums):\n",
    "    def permutation(nums):\n",
    "        n=len(nums);\n",
    "        if n==1:\n",
    "            return([nums]);\n",
    "        res=[];\n",
    "        for i in range(n):\n",
    "            nums[0],nums[i]=nums[i],nums[0]\n",
    "            for perm in permutation(nums[1:n]):\n",
    "                res=res+[[nums[0]]+perm];\n",
    "            nums[0],nums[i]=nums[i],nums[0];\n",
    "        return(res);\n",
    "    return(permutation(nums));"
   ]
  },
  {
   "cell_type": "code",
   "execution_count": 7,
   "metadata": {},
   "outputs": [
    {
     "name": "stdout",
     "output_type": "stream",
     "text": [
      "[[1, 2, 3], [1, 3, 2], [2, 1, 3], [2, 3, 1], [3, 2, 1], [3, 1, 2]]\n"
     ]
    }
   ],
   "source": [
    "nums=[1,2,3];\n",
    "print(permute(nums))"
   ]
  }
 ],
 "metadata": {
  "kernelspec": {
   "display_name": "Python 3",
   "language": "python",
   "name": "python3"
  },
  "language_info": {
   "codemirror_mode": {
    "name": "ipython",
    "version": 3
   },
   "file_extension": ".py",
   "mimetype": "text/x-python",
   "name": "python",
   "nbconvert_exporter": "python",
   "pygments_lexer": "ipython3",
   "version": "3.6.4"
  }
 },
 "nbformat": 4,
 "nbformat_minor": 2
}
