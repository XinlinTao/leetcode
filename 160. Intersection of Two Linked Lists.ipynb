{
 "cells": [
  {
   "cell_type": "code",
   "execution_count": 2,
   "metadata": {},
   "outputs": [],
   "source": [
    "class ListNode:\n",
    "    def __init__(self, x):\n",
    "        self.val = x\n",
    "        self.next = None"
   ]
  },
  {
   "cell_type": "code",
   "execution_count": 3,
   "metadata": {},
   "outputs": [],
   "source": [
    "class Solution:\n",
    "    def getIntersectionNode(self, headA: ListNode, headB: ListNode) -> ListNode:\n",
    "        pA=headA;\n",
    "        pB=headB;\n",
    "        flagA=False;\n",
    "        flagB=False;\n",
    "        while pA and pB and pA!=pB :\n",
    "            if pA.next:\n",
    "                pA=pA.next\n",
    "            else:\n",
    "                pA=headB;\n",
    "                if not flagA:\n",
    "                    flagA=True;\n",
    "                else:\n",
    "                    return(None)\n",
    "            if pB.next:\n",
    "                pB=pB.next \n",
    "            else:\n",
    "                pB=headA;\n",
    "                if not flagB:\n",
    "                    flagB=True\n",
    "                else:\n",
    "                    return(None);\n",
    "        if pA==pB:\n",
    "            return(pA);\n",
    "        else:\n",
    "            return(None)"
   ]
  },
  {
   "cell_type": "code",
   "execution_count": null,
   "metadata": {},
   "outputs": [],
   "source": [
    "class Solution:\n",
    "    def getIntersectionNode(self, headA: ListNode, headB: ListNode) -> ListNode:\n",
    "        pA=headA;\n",
    "        pB=headB;\n",
    "        if not pA or not pB:\n",
    "            return(None);\n",
    "        tailA=tailB=None;\n",
    "        while pA!=pB :\n",
    "            if pA.next:\n",
    "                pA=pA.next\n",
    "            else:\n",
    "                tailA=pA;\n",
    "                pA=headB;\n",
    "            if pB.next:\n",
    "                pB=pB.next \n",
    "            else:\n",
    "                tailB=pB;\n",
    "                pB=headA;\n",
    "            if tailA and tailB and tailA!=tailB:\n",
    "                return(None);\n",
    "        return(pA);"
   ]
  }
 ],
 "metadata": {
  "kernelspec": {
   "display_name": "Python 3",
   "language": "python",
   "name": "python3"
  },
  "language_info": {
   "codemirror_mode": {
    "name": "ipython",
    "version": 3
   },
   "file_extension": ".py",
   "mimetype": "text/x-python",
   "name": "python",
   "nbconvert_exporter": "python",
   "pygments_lexer": "ipython3",
   "version": "3.6.4"
  }
 },
 "nbformat": 4,
 "nbformat_minor": 2
}
