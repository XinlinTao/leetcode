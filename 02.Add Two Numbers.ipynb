{
 "cells": [
  {
   "cell_type": "code",
   "execution_count": 12,
   "metadata": {},
   "outputs": [],
   "source": [
    "class ListNode:\n",
    "    def __init__(self, val=0, next=None):\n",
    "         self.val = val;\n",
    "         self.next = next"
   ]
  },
  {
   "cell_type": "code",
   "execution_count": 18,
   "metadata": {},
   "outputs": [],
   "source": [
    "def addTwoNumbers(l1: ListNode, l2: ListNode) -> ListNode:\n",
    "    head=ListNode(0);\n",
    "    temp=head;\n",
    "    p1=l1;\n",
    "    p2=l2;\n",
    "    remainder=0;\n",
    "    while p1 or p2:\n",
    "        totalval=0;\n",
    "        if p1:\n",
    "            totalval += p1.val;\n",
    "            p1=p1.next;\n",
    "        if p2:\n",
    "            totalval += p2.val;\n",
    "            p2=p2.next;\n",
    "        (remainder,totalval)=divmod(totalval+remainder,10);\n",
    "        temp.next=ListNode(totalval);\n",
    "        temp=temp.next;\n",
    "    if (remainder==1):\n",
    "        temp.next=ListNode(1);\n",
    "    return(head.next);        "
   ]
  }
 ],
 "metadata": {
  "kernelspec": {
   "display_name": "Python 3",
   "language": "python",
   "name": "python3"
  },
  "language_info": {
   "codemirror_mode": {
    "name": "ipython",
    "version": 3
   },
   "file_extension": ".py",
   "mimetype": "text/x-python",
   "name": "python",
   "nbconvert_exporter": "python",
   "pygments_lexer": "ipython3",
   "version": "3.6.4"
  }
 },
 "nbformat": 4,
 "nbformat_minor": 2
}
