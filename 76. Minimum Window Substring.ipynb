{
 "cells": [
  {
   "cell_type": "code",
   "execution_count": 36,
   "metadata": {},
   "outputs": [],
   "source": [
    "def minWindow(s:str,t:str):\n",
    "    if not s or not t:\n",
    "        return(\"\");\n",
    "    def Counter(t:str):\n",
    "        dict_t={}\n",
    "        for c in t:\n",
    "            if c not in dict_t:\n",
    "                dict_t[c]=1;\n",
    "            else:\n",
    "                dict_t[c]+=1;\n",
    "        return(dict_t);\n",
    "    count_t=Counter(t);\n",
    "    filter_s=[];\n",
    "    for i,c in enumerate(s):\n",
    "        if c in count_t:\n",
    "            filter_s.append((i,c));\n",
    "    l,r=0,0;\n",
    "    ans=[len(s)+1,0,len(s)];\n",
    "    match=0;\n",
    "    window={};\n",
    "    while r<len(filter_s):\n",
    "        char_r=filter_s[r][1];\n",
    "        if char_r not in window:\n",
    "            window[char_r]=1;\n",
    "        else:\n",
    "            window[char_r]+=1;\n",
    "        if window[char_r]==count_t[char_r]:\n",
    "            match+=1;\n",
    "        while l<=r and match==len(count_t):\n",
    "            ll=filter_s[r][0]-filter_s[l][0]+1;\n",
    "            #print(ll,ans[0]);\n",
    "            if ll<ans[0]:\n",
    "                ans[1]=l;\n",
    "                ans[2]=r;\n",
    "                ans[0]=ll\n",
    "            char_l=filter_s[l][1];\n",
    "            window[char_l]-=1;\n",
    "            l+=1;\n",
    "            if window[char_l]<count_t[char_l]:\n",
    "                match-=1;\n",
    "        r+=1;\n",
    "    if ans[0]==len(s)+1:\n",
    "        return(\"\")\n",
    "    else:\n",
    "        return(s[filter_s[ans[1]][0]:filter_s[ans[2]][0]+1]);\n",
    "            "
   ]
  },
  {
   "cell_type": "code",
   "execution_count": 37,
   "metadata": {},
   "outputs": [
    {
     "data": {
      "text/plain": [
       "'BANC'"
      ]
     },
     "execution_count": 37,
     "metadata": {},
     "output_type": "execute_result"
    }
   ],
   "source": [
    "S = \"ADOBECODEBANC\"\n",
    "T = \"ABC\"\n",
    "minWindow(S,T)"
   ]
  },
  {
   "cell_type": "code",
   "execution_count": 5,
   "metadata": {},
   "outputs": [
    {
     "data": {
      "text/plain": [
       "{'A': 1, 'B': 1, 'C': 1}"
      ]
     },
     "execution_count": 5,
     "metadata": {},
     "output_type": "execute_result"
    }
   ],
   "source": [
    "def Counter(t:str):\n",
    "    dict_t={}\n",
    "    for c in t:\n",
    "        if c not in dict_t:\n",
    "            dict_t[c]=1;\n",
    "        else:\n",
    "            dict_t[c]+=1;\n",
    "    return(dict_t);\n",
    "t=\"ABC\";\n",
    "Counter(t)"
   ]
  },
  {
   "cell_type": "code",
   "execution_count": 3,
   "metadata": {},
   "outputs": [
    {
     "ename": "ModuleNotFoundError",
     "evalue": "No module named 'Collections'",
     "output_type": "error",
     "traceback": [
      "\u001b[0;31m---------------------------------------------------------------------------\u001b[0m",
      "\u001b[0;31mModuleNotFoundError\u001b[0m                       Traceback (most recent call last)",
      "\u001b[0;32m<ipython-input-3-54c7c2664f03>\u001b[0m in \u001b[0;36m<module>\u001b[0;34m()\u001b[0m\n\u001b[0;32m----> 1\u001b[0;31m \u001b[0;32mfrom\u001b[0m \u001b[0mCollections\u001b[0m \u001b[0;32mimport\u001b[0m \u001b[0mCounter\u001b[0m\u001b[0;34m\u001b[0m\u001b[0m\n\u001b[0m",
      "\u001b[0;31mModuleNotFoundError\u001b[0m: No module named 'Collections'"
     ]
    }
   ],
   "source": [
    "from Collections import Counter"
   ]
  }
 ],
 "metadata": {
  "kernelspec": {
   "display_name": "Python 3",
   "language": "python",
   "name": "python3"
  },
  "language_info": {
   "codemirror_mode": {
    "name": "ipython",
    "version": 3
   },
   "file_extension": ".py",
   "mimetype": "text/x-python",
   "name": "python",
   "nbconvert_exporter": "python",
   "pygments_lexer": "ipython3",
   "version": "3.6.4"
  }
 },
 "nbformat": 4,
 "nbformat_minor": 2
}
