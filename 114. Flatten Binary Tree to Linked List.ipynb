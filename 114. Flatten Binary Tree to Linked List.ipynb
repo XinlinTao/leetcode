{
 "cells": [
  {
   "cell_type": "code",
   "execution_count": 1,
   "metadata": {},
   "outputs": [],
   "source": [
    "class TreeNode:\n",
    "    def __init__(self, val=0, left=None, right=None):\n",
    "        self.val = val\n",
    "        self.left = left\n",
    "        self.right = right"
   ]
  },
  {
   "cell_type": "code",
   "execution_count": 7,
   "metadata": {},
   "outputs": [],
   "source": [
    "def flatten(self, root: TreeNode) -> None:\n",
    "    \"\"\"\n",
    "    Do not return anything, modify root in-place instead.\n",
    "    \"\"\"\n",
    "    def construct(root:TreeNode):\n",
    "        if not root.left and not root.right:\n",
    "            return((root,root))\n",
    "        if not root.left:\n",
    "            root.right,right_end=construct(root.right);\n",
    "            return((root,right_end));\n",
    "        if not root.right:\n",
    "            root.right,left_end=construct(root.left);\n",
    "            root.left=None;\n",
    "            return((root,left_end));\n",
    "        left,left_end=construct(root.left);\n",
    "        right,right_end=construct(root.right);\n",
    "        left_end.right=right;\n",
    "        root.right=left;\n",
    "        root.left=None;\n",
    "        return((root,right_end));\n",
    "    if not root:\n",
    "        None;\n",
    "    else:\n",
    "        construct(root)[0]; "
   ]
  },
  {
   "cell_type": "code",
   "execution_count": 6,
   "metadata": {},
   "outputs": [
    {
     "name": "stdout",
     "output_type": "stream",
     "text": [
      "3\n"
     ]
    }
   ],
   "source": [
    "a=3;\n",
    "b=a;\n",
    "c=b\n",
    "a=4\n",
    "print(c)"
   ]
  }
 ],
 "metadata": {
  "kernelspec": {
   "display_name": "Python 3",
   "language": "python",
   "name": "python3"
  },
  "language_info": {
   "codemirror_mode": {
    "name": "ipython",
    "version": 3
   },
   "file_extension": ".py",
   "mimetype": "text/x-python",
   "name": "python",
   "nbconvert_exporter": "python",
   "pygments_lexer": "ipython3",
   "version": "3.6.4"
  }
 },
 "nbformat": 4,
 "nbformat_minor": 2
}
