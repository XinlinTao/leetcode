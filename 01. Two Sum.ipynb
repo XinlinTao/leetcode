{
 "cells": [
  {
   "cell_type": "code",
   "execution_count": 14,
   "metadata": {},
   "outputs": [],
   "source": [
    "from typing import List;\n",
    "nums=[2,7,11,15]\n",
    "target=9"
   ]
  },
  {
   "cell_type": "code",
   "execution_count": 51,
   "metadata": {},
   "outputs": [],
   "source": [
    "class Solution:\n",
    "    def __init__(self,nums,target):\n",
    "        self.nums=nums;\n",
    "        self.target=target;\n",
    "        self.sol=self.twoSum()\n",
    "    def twoSum(self) -> List[int]:\n",
    "        d={};\n",
    "        nums=self.nums;\n",
    "        target=self.target\n",
    "        for index,value in enumerate(nums):\n",
    "            if (target-value in d):\n",
    "                return(d[target-value],index);\n",
    "            else:\n",
    "                d[value]=index;\n",
    "    "
   ]
  },
  {
   "cell_type": "code",
   "execution_count": 52,
   "metadata": {},
   "outputs": [
    {
     "name": "stdout",
     "output_type": "stream",
     "text": [
      "[2, 7, 11, 15]\n",
      "(0, 1)\n",
      "(0, 1)\n"
     ]
    }
   ],
   "source": [
    "ans=Solution(nums,target);\n",
    "print(ans.nums)\n",
    "print(ans.twoSum())\n",
    "print(ans.sol)"
   ]
  },
  {
   "cell_type": "code",
   "execution_count": null,
   "metadata": {},
   "outputs": [],
   "source": []
  }
 ],
 "metadata": {
  "kernelspec": {
   "display_name": "Python 3",
   "language": "python",
   "name": "python3"
  },
  "language_info": {
   "codemirror_mode": {
    "name": "ipython",
    "version": 3
   },
   "file_extension": ".py",
   "mimetype": "text/x-python",
   "name": "python",
   "nbconvert_exporter": "python",
   "pygments_lexer": "ipython3",
   "version": "3.6.4"
  }
 },
 "nbformat": 4,
 "nbformat_minor": 2
}
