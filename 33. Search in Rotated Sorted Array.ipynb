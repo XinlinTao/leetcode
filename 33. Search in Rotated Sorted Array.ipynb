{
 "cells": [
  {
   "cell_type": "code",
   "execution_count": 32,
   "metadata": {},
   "outputs": [],
   "source": [
    "def search(nums, target: int) -> int:\n",
    "    def find_pivot(nums,i,j):\n",
    "        mid=(i+j)//2;\n",
    "        if nums[mid]>nums[mid+1]:\n",
    "            return(mid);\n",
    "        if nums[mid]<nums[i]:\n",
    "            return(find_pivot(nums,i,mid));\n",
    "        if nums[mid]>nums[i]:\n",
    "            return(find_pivot(nums,mid,j));\n",
    "    n=len(nums);\n",
    "    if nums[0]<=nums[n-1]:\n",
    "        p=n-1;\n",
    "    else:\n",
    "        p=find_pivot(nums,0,n-1);\n",
    "    def find_target(nums,i,j,target):\n",
    "        if i==j and nums[i%n]!=target:\n",
    "            return(-1);\n",
    "        if i>j:\n",
    "            return(-1);\n",
    "        if i==j and nums[i%n]==target:\n",
    "            return(i%n);\n",
    "        mid=(i+j)//2;\n",
    "        if target==nums[mid%n]:\n",
    "            return(mid%n);\n",
    "        if target>nums[mid%n]:\n",
    "            return(find_target(nums,mid+1,j,target));\n",
    "        if target<nums[mid%n]:\n",
    "            return(find_target(nums,i,mid-1,target));\n",
    "    return find_target(nums,p+1,p+n,target);"
   ]
  },
  {
   "cell_type": "code",
   "execution_count": 33,
   "metadata": {},
   "outputs": [
    {
     "data": {
      "text/plain": [
       "-1"
      ]
     },
     "execution_count": 33,
     "metadata": {},
     "output_type": "execute_result"
    }
   ],
   "source": [
    "nums = [4,5,6,7,0,1,2];\n",
    "#find_pivot(nums,0,len(nums))\n",
    "search(nums,3)"
   ]
  }
 ],
 "metadata": {
  "kernelspec": {
   "display_name": "Python 3",
   "language": "python",
   "name": "python3"
  },
  "language_info": {
   "codemirror_mode": {
    "name": "ipython",
    "version": 3
   },
   "file_extension": ".py",
   "mimetype": "text/x-python",
   "name": "python",
   "nbconvert_exporter": "python",
   "pygments_lexer": "ipython3",
   "version": "3.6.4"
  }
 },
 "nbformat": 4,
 "nbformat_minor": 2
}
