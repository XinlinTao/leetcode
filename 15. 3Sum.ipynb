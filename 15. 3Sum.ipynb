{
 "cells": [
  {
   "cell_type": "code",
   "execution_count": 1,
   "metadata": {},
   "outputs": [
    {
     "name": "stdout",
     "output_type": "stream",
     "text": [
      "{3: [1, 2]}\n"
     ]
    }
   ],
   "source": [
    "a={};\n",
    "a[3]=[1,2];\n",
    "print(a)"
   ]
  },
  {
   "cell_type": "code",
   "execution_count": 5,
   "metadata": {},
   "outputs": [
    {
     "name": "stdout",
     "output_type": "stream",
     "text": [
      "[1]\n"
     ]
    }
   ],
   "source": [
    "a=[];\n",
    "a.append(1);\n",
    "print(a)"
   ]
  },
  {
   "cell_type": "code",
   "execution_count": 61,
   "metadata": {},
   "outputs": [],
   "source": [
    "#abandon wrong algorithm\n",
    "def threeSum(nums):\n",
    "    n=len(nums);\n",
    "    sums={};\n",
    "    res=[];\n",
    "    nums.sort();\n",
    "    next_index={};    \n",
    "    for i in range(1,n):\n",
    "        if (nums[i]==nums[i-1]): \n",
    "            continue;\n",
    "        else:\n",
    "            next_index[nums[i-1]]=i;\n",
    "    next_index[nums[n-1]]=n;\n",
    "    i,j=0,0;\n",
    "    \n",
    "    while (i<n):\n",
    "        j=i+1;\n",
    "        while (j<n):\n",
    "            s=nums[i]+nums[j];\n",
    "            if (s not in sums):\n",
    "                sums[s]=[];\n",
    "            sums[s].append(i);\n",
    "            sums[s].append(j);\n",
    "            j=next_index[nums[j]];\n",
    "        i=next_index[nums[i]];\n",
    "    i=0;\n",
    "    while (i<n):\n",
    "        if ((-nums[i]) in sums):\n",
    "            dup=(next_index[nums[i]]>(i+1));\n",
    "            m=len(sums[-nums[i]]);\n",
    "            for j in range(m//2):\n",
    "                p=sums[-nums[i]][2*j];\n",
    "                q=sums[-nums[i]][2*j+1];\n",
    "                9\n",
    "                if ((nums[p]>nums[i])and(nums[q]>nums[i])):\n",
    "                    res.append([nums[i],nums[p],nums[q]]);\n",
    "                else:\n",
    "                    if (((p==i)or(q==i))and dup):\n",
    "                        res.append([nums[i],nums[p],nums[q]]);\n",
    "        i=next_index[nums[i]];\n",
    "    print(next_index);\n",
    "    print(sums);\n",
    "    return(res)\n",
    "            "
   ]
  },
  {
   "cell_type": "code",
   "execution_count": 97,
   "metadata": {},
   "outputs": [],
   "source": [
    "#abandon slow algorithm\n",
    "def threeSum(nums):\n",
    "    n=len(nums);\n",
    "    d={};\n",
    "    dd={};\n",
    "    res=[];\n",
    "    #nums.sort();\n",
    "    for num in nums:\n",
    "        if (num not in d):\n",
    "            d[num]=1;\n",
    "        else:\n",
    "            d[num]+=1;\n",
    "    ident_nums=list(d.keys());\n",
    "    for i in range(len(ident_nums)):\n",
    "        for j in range(i+1,len(ident_nums)):\n",
    "            num1=ident_nums[i];\n",
    "            num2=ident_nums[j];\n",
    "            s=num1+num2;\n",
    "            if s not in dd:\n",
    "                dd[s]=set({});\n",
    "            dd[s].add(abs(num1-num2));\n",
    "    for i in range(len(ident_nums)):\n",
    "        s=-ident_nums[i];\n",
    "        if s in dd:\n",
    "            for diff in dd[s]:\n",
    "                num1=(diff+s)//2;\n",
    "                num2=(s-diff)//2;\n",
    "                if (num1>-s) and (num2>-s) or (diff==0):\n",
    "                    res.append([-s,num1,num2]);\n",
    "    #dd=set({});\n",
    "    #for i in (ident_nums):\n",
    "    #    if d[i]>1:\n",
    "    #        dd.add(i);\n",
    "    #for i in (ident_nums):\n",
    "    #    s=-i;\n",
    "    #    if (s%2==0)and (s!=0):\n",
    "    #        if (s//2 in dd):\n",
    "    #            res.append([-s,s//2,s//2]);\n",
    "    if (0 in d) and (d[0]>=3):\n",
    "        res.append([0,0,0]);\n",
    "    return(res)"
   ]
  },
  {
   "cell_type": "code",
   "execution_count": 108,
   "metadata": {},
   "outputs": [],
   "source": [
    "#algorithm based on tuple hashing\n",
    "def threeSum(nums):\n",
    "    d={};\n",
    "    nums.sort();\n",
    "    res=set();\n",
    "    for i,n in enumerate(nums):\n",
    "        d[n]=i;\n",
    "    for i in range(len(nums)):\n",
    "        for j in range(i+1,len(nums)):\n",
    "            s=-(nums[i]+nums[j]);\n",
    "            if (s in d) and d[s]>j:\n",
    "                res.add((nums[i],nums[j],s));\n",
    "    return(list(res));"
   ]
  },
  {
   "cell_type": "code",
   "execution_count": 114,
   "metadata": {},
   "outputs": [],
   "source": [
    "#algorithm based on sorting\n",
    "def threeSum(nums):\n",
    "    d={};\n",
    "    nums.sort();\n",
    "    res=[];\n",
    "    for i in range(len(nums)):\n",
    "        if i>0 and nums[i]==nums[i-1]: continue;\n",
    "        p=i+1;\n",
    "        q=len(nums)-1;\n",
    "        target=-nums[i];\n",
    "        while (p<q):\n",
    "            ss=nums[p]+nums[q];\n",
    "            if ss<target:\n",
    "                p+=1;\n",
    "                continue;\n",
    "            if ss>target:\n",
    "                q-=1;\n",
    "                continue;\n",
    "            if ss==target:\n",
    "                res.append([nums[i],nums[p],nums[q]]);\n",
    "                p+=1;\n",
    "                q-=1;\n",
    "                while (nums[p]==nums[p-1])and(p<q): \n",
    "                    p+=1;\n",
    "                while nums[q]==nums[q+1] and p<q: q-=1;\n",
    "    return(res);\n",
    "                "
   ]
  },
  {
   "cell_type": "code",
   "execution_count": 117,
   "metadata": {},
   "outputs": [
    {
     "name": "stdout",
     "output_type": "stream",
     "text": [
      "[[-1, -1, 2], [-1, 0, 1]]\n"
     ]
    }
   ],
   "source": [
    "nums=[-1,0,1,2,-1,-4];\n",
    "print(threeSum(nums))"
   ]
  },
  {
   "cell_type": "code",
   "execution_count": null,
   "metadata": {},
   "outputs": [],
   "source": []
  }
 ],
 "metadata": {
  "kernelspec": {
   "display_name": "Python 3",
   "language": "python",
   "name": "python3"
  },
  "language_info": {
   "codemirror_mode": {
    "name": "ipython",
    "version": 3
   },
   "file_extension": ".py",
   "mimetype": "text/x-python",
   "name": "python",
   "nbconvert_exporter": "python",
   "pygments_lexer": "ipython3",
   "version": "3.6.4"
  }
 },
 "nbformat": 4,
 "nbformat_minor": 2
}
