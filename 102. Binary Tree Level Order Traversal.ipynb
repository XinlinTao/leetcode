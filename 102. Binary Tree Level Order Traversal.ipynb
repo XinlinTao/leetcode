{
 "cells": [
  {
   "cell_type": "code",
   "execution_count": 11,
   "metadata": {},
   "outputs": [],
   "source": [
    "class TreeNode:\n",
    "    def __init__(self, val=0, left=None, right=None):\n",
    "        self.val = val\n",
    "        self.left = left\n",
    "        self.right = right"
   ]
  },
  {
   "cell_type": "code",
   "execution_count": 12,
   "metadata": {},
   "outputs": [],
   "source": [
    "def levelOrder(self, root: TreeNode):\n",
    "    res={};\n",
    "    def levelOrdergenerate(root:TreeNode,level):\n",
    "        if not root:\n",
    "            return;\n",
    "        if level not in res:\n",
    "            res[level]=[];\n",
    "        res[level].append(root.val);\n",
    "        levelOrdergenerate(root.left,level+1);\n",
    "        levelOrdergenerate(root.right,level+1);\n",
    "    levelOrdergenerate(root,0);\n",
    "    return(list(res.values()))     "
   ]
  },
  {
   "cell_type": "code",
   "execution_count": null,
   "metadata": {},
   "outputs": [],
   "source": [
    "d[1]"
   ]
  }
 ],
 "metadata": {
  "kernelspec": {
   "display_name": "Python 3",
   "language": "python",
   "name": "python3"
  },
  "language_info": {
   "codemirror_mode": {
    "name": "ipython",
    "version": 3
   },
   "file_extension": ".py",
   "mimetype": "text/x-python",
   "name": "python",
   "nbconvert_exporter": "python",
   "pygments_lexer": "ipython3",
   "version": "3.6.4"
  }
 },
 "nbformat": 4,
 "nbformat_minor": 2
}
